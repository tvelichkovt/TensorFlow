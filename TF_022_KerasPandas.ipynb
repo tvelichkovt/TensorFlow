{
  "nbformat": 4,
  "nbformat_minor": 0,
  "metadata": {
    "colab": {
      "name": "TF_022_KerasPandas",
      "provenance": [],
      "collapsed_sections": [],
      "mount_file_id": "1f1dz_Td1mJO-Cldt4IcxwRhjHHSp72V3",
      "authorship_tag": "ABX9TyPIIgkRm2sgnvcclQDaKSah",
      "include_colab_link": true
    },
    "kernelspec": {
      "name": "python3",
      "display_name": "Python 3"
    }
  },
  "cells": [
    {
      "cell_type": "markdown",
      "metadata": {
        "id": "view-in-github",
        "colab_type": "text"
      },
      "source": [
        "<a href=\"https://colab.research.google.com/github/tvelichkovt/TensorFlow/blob/master/TF_022_KerasPandas.ipynb\" target=\"_parent\"><img src=\"https://colab.research.google.com/assets/colab-badge.svg\" alt=\"Open In Colab\"/></a>"
      ]
    },
    {
      "cell_type": "markdown",
      "metadata": {
        "id": "SyXEFt5lijVL",
        "colab_type": "text"
      },
      "source": [
        "# tf -> \"import\""
      ]
    },
    {
      "cell_type": "code",
      "metadata": {
        "id": "YDJ4_hz8DnMZ",
        "colab_type": "code",
        "colab": {
          "base_uri": "https://localhost:8080/",
          "height": 85
        },
        "outputId": "54e931e8-258b-4600-8c2a-da3b9de15a79"
      },
      "source": [
        "from __future__ import absolute_import, division, print_function, unicode_literals\n",
        "\n",
        "try:\n",
        "    %tensorflow_version 2.x\n",
        "except Exception:\n",
        "  pass\n",
        "\n",
        "import tensorflow as tf\n",
        "from tensorflow import keras\n",
        "import matplotlib.pyplot as plt\n",
        "import numpy as np\n",
        "import pandas as pd\n",
        "\n",
        "print('TensorFlow ver is:', tf.__version__, '\\nKeras ver is:', keras.__version__, '\\nPandas ver is:', pd.__version__, '\\nNumpy ver is:', np.__version__)"
      ],
      "execution_count": 2,
      "outputs": [
        {
          "output_type": "stream",
          "text": [
            "TensorFlow ver is: 2.2.0 \n",
            "Keras ver is: 2.3.0-tf \n",
            "Pandas ver is: 1.0.5 \n",
            "Numpy ver is: 1.18.5\n"
          ],
          "name": "stdout"
        }
      ]
    },
    {
      "cell_type": "markdown",
      "metadata": {
        "id": "bFwu164XeDqa",
        "colab_type": "text"
      },
      "source": [
        "# tf -> \"heart dataset\""
      ]
    },
    {
      "cell_type": "code",
      "metadata": {
        "id": "F5rig8IwYYml",
        "colab_type": "code",
        "colab": {
          "base_uri": "https://localhost:8080/",
          "height": 238
        },
        "outputId": "ee6aaf91-a365-4cf2-8e4e-d1f42eb54885"
      },
      "source": [
        "csv_file = tf.keras.utils.get_file('heart.csv', 'https://storage.googleapis.com/applied-dl/heart.csv')\n",
        "df = pd.read_csv(csv_file)\n",
        "df.head()\n"
      ],
      "execution_count": 3,
      "outputs": [
        {
          "output_type": "stream",
          "text": [
            "Downloading data from https://storage.googleapis.com/applied-dl/heart.csv\n",
            "16384/13273 [=====================================] - 0s 0us/step\n"
          ],
          "name": "stdout"
        },
        {
          "output_type": "execute_result",
          "data": {
            "text/html": [
              "<div>\n",
              "<style scoped>\n",
              "    .dataframe tbody tr th:only-of-type {\n",
              "        vertical-align: middle;\n",
              "    }\n",
              "\n",
              "    .dataframe tbody tr th {\n",
              "        vertical-align: top;\n",
              "    }\n",
              "\n",
              "    .dataframe thead th {\n",
              "        text-align: right;\n",
              "    }\n",
              "</style>\n",
              "<table border=\"1\" class=\"dataframe\">\n",
              "  <thead>\n",
              "    <tr style=\"text-align: right;\">\n",
              "      <th></th>\n",
              "      <th>age</th>\n",
              "      <th>sex</th>\n",
              "      <th>cp</th>\n",
              "      <th>trestbps</th>\n",
              "      <th>chol</th>\n",
              "      <th>fbs</th>\n",
              "      <th>restecg</th>\n",
              "      <th>thalach</th>\n",
              "      <th>exang</th>\n",
              "      <th>oldpeak</th>\n",
              "      <th>slope</th>\n",
              "      <th>ca</th>\n",
              "      <th>thal</th>\n",
              "      <th>target</th>\n",
              "    </tr>\n",
              "  </thead>\n",
              "  <tbody>\n",
              "    <tr>\n",
              "      <th>0</th>\n",
              "      <td>63</td>\n",
              "      <td>1</td>\n",
              "      <td>1</td>\n",
              "      <td>145</td>\n",
              "      <td>233</td>\n",
              "      <td>1</td>\n",
              "      <td>2</td>\n",
              "      <td>150</td>\n",
              "      <td>0</td>\n",
              "      <td>2.3</td>\n",
              "      <td>3</td>\n",
              "      <td>0</td>\n",
              "      <td>fixed</td>\n",
              "      <td>0</td>\n",
              "    </tr>\n",
              "    <tr>\n",
              "      <th>1</th>\n",
              "      <td>67</td>\n",
              "      <td>1</td>\n",
              "      <td>4</td>\n",
              "      <td>160</td>\n",
              "      <td>286</td>\n",
              "      <td>0</td>\n",
              "      <td>2</td>\n",
              "      <td>108</td>\n",
              "      <td>1</td>\n",
              "      <td>1.5</td>\n",
              "      <td>2</td>\n",
              "      <td>3</td>\n",
              "      <td>normal</td>\n",
              "      <td>1</td>\n",
              "    </tr>\n",
              "    <tr>\n",
              "      <th>2</th>\n",
              "      <td>67</td>\n",
              "      <td>1</td>\n",
              "      <td>4</td>\n",
              "      <td>120</td>\n",
              "      <td>229</td>\n",
              "      <td>0</td>\n",
              "      <td>2</td>\n",
              "      <td>129</td>\n",
              "      <td>1</td>\n",
              "      <td>2.6</td>\n",
              "      <td>2</td>\n",
              "      <td>2</td>\n",
              "      <td>reversible</td>\n",
              "      <td>0</td>\n",
              "    </tr>\n",
              "    <tr>\n",
              "      <th>3</th>\n",
              "      <td>37</td>\n",
              "      <td>1</td>\n",
              "      <td>3</td>\n",
              "      <td>130</td>\n",
              "      <td>250</td>\n",
              "      <td>0</td>\n",
              "      <td>0</td>\n",
              "      <td>187</td>\n",
              "      <td>0</td>\n",
              "      <td>3.5</td>\n",
              "      <td>3</td>\n",
              "      <td>0</td>\n",
              "      <td>normal</td>\n",
              "      <td>0</td>\n",
              "    </tr>\n",
              "    <tr>\n",
              "      <th>4</th>\n",
              "      <td>41</td>\n",
              "      <td>0</td>\n",
              "      <td>2</td>\n",
              "      <td>130</td>\n",
              "      <td>204</td>\n",
              "      <td>0</td>\n",
              "      <td>2</td>\n",
              "      <td>172</td>\n",
              "      <td>0</td>\n",
              "      <td>1.4</td>\n",
              "      <td>1</td>\n",
              "      <td>0</td>\n",
              "      <td>normal</td>\n",
              "      <td>0</td>\n",
              "    </tr>\n",
              "  </tbody>\n",
              "</table>\n",
              "</div>"
            ],
            "text/plain": [
              "   age  sex  cp  trestbps  chol  ...  oldpeak  slope  ca        thal  target\n",
              "0   63    1   1       145   233  ...      2.3      3   0       fixed       0\n",
              "1   67    1   4       160   286  ...      1.5      2   3      normal       1\n",
              "2   67    1   4       120   229  ...      2.6      2   2  reversible       0\n",
              "3   37    1   3       130   250  ...      3.5      3   0      normal       0\n",
              "4   41    0   2       130   204  ...      1.4      1   0      normal       0\n",
              "\n",
              "[5 rows x 14 columns]"
            ]
          },
          "metadata": {
            "tags": []
          },
          "execution_count": 3
        }
      ]
    },
    {
      "cell_type": "code",
      "metadata": {
        "id": "ed0WrQPlakxN",
        "colab_type": "code",
        "colab": {
          "base_uri": "https://localhost:8080/",
          "height": 204
        },
        "outputId": "8acb1b62-4341-4598-f86f-212d6d52cf20"
      },
      "source": [
        "df.head()"
      ],
      "execution_count": 4,
      "outputs": [
        {
          "output_type": "execute_result",
          "data": {
            "text/html": [
              "<div>\n",
              "<style scoped>\n",
              "    .dataframe tbody tr th:only-of-type {\n",
              "        vertical-align: middle;\n",
              "    }\n",
              "\n",
              "    .dataframe tbody tr th {\n",
              "        vertical-align: top;\n",
              "    }\n",
              "\n",
              "    .dataframe thead th {\n",
              "        text-align: right;\n",
              "    }\n",
              "</style>\n",
              "<table border=\"1\" class=\"dataframe\">\n",
              "  <thead>\n",
              "    <tr style=\"text-align: right;\">\n",
              "      <th></th>\n",
              "      <th>age</th>\n",
              "      <th>sex</th>\n",
              "      <th>cp</th>\n",
              "      <th>trestbps</th>\n",
              "      <th>chol</th>\n",
              "      <th>fbs</th>\n",
              "      <th>restecg</th>\n",
              "      <th>thalach</th>\n",
              "      <th>exang</th>\n",
              "      <th>oldpeak</th>\n",
              "      <th>slope</th>\n",
              "      <th>ca</th>\n",
              "      <th>thal</th>\n",
              "      <th>target</th>\n",
              "    </tr>\n",
              "  </thead>\n",
              "  <tbody>\n",
              "    <tr>\n",
              "      <th>0</th>\n",
              "      <td>63</td>\n",
              "      <td>1</td>\n",
              "      <td>1</td>\n",
              "      <td>145</td>\n",
              "      <td>233</td>\n",
              "      <td>1</td>\n",
              "      <td>2</td>\n",
              "      <td>150</td>\n",
              "      <td>0</td>\n",
              "      <td>2.3</td>\n",
              "      <td>3</td>\n",
              "      <td>0</td>\n",
              "      <td>fixed</td>\n",
              "      <td>0</td>\n",
              "    </tr>\n",
              "    <tr>\n",
              "      <th>1</th>\n",
              "      <td>67</td>\n",
              "      <td>1</td>\n",
              "      <td>4</td>\n",
              "      <td>160</td>\n",
              "      <td>286</td>\n",
              "      <td>0</td>\n",
              "      <td>2</td>\n",
              "      <td>108</td>\n",
              "      <td>1</td>\n",
              "      <td>1.5</td>\n",
              "      <td>2</td>\n",
              "      <td>3</td>\n",
              "      <td>normal</td>\n",
              "      <td>1</td>\n",
              "    </tr>\n",
              "    <tr>\n",
              "      <th>2</th>\n",
              "      <td>67</td>\n",
              "      <td>1</td>\n",
              "      <td>4</td>\n",
              "      <td>120</td>\n",
              "      <td>229</td>\n",
              "      <td>0</td>\n",
              "      <td>2</td>\n",
              "      <td>129</td>\n",
              "      <td>1</td>\n",
              "      <td>2.6</td>\n",
              "      <td>2</td>\n",
              "      <td>2</td>\n",
              "      <td>reversible</td>\n",
              "      <td>0</td>\n",
              "    </tr>\n",
              "    <tr>\n",
              "      <th>3</th>\n",
              "      <td>37</td>\n",
              "      <td>1</td>\n",
              "      <td>3</td>\n",
              "      <td>130</td>\n",
              "      <td>250</td>\n",
              "      <td>0</td>\n",
              "      <td>0</td>\n",
              "      <td>187</td>\n",
              "      <td>0</td>\n",
              "      <td>3.5</td>\n",
              "      <td>3</td>\n",
              "      <td>0</td>\n",
              "      <td>normal</td>\n",
              "      <td>0</td>\n",
              "    </tr>\n",
              "    <tr>\n",
              "      <th>4</th>\n",
              "      <td>41</td>\n",
              "      <td>0</td>\n",
              "      <td>2</td>\n",
              "      <td>130</td>\n",
              "      <td>204</td>\n",
              "      <td>0</td>\n",
              "      <td>2</td>\n",
              "      <td>172</td>\n",
              "      <td>0</td>\n",
              "      <td>1.4</td>\n",
              "      <td>1</td>\n",
              "      <td>0</td>\n",
              "      <td>normal</td>\n",
              "      <td>0</td>\n",
              "    </tr>\n",
              "  </tbody>\n",
              "</table>\n",
              "</div>"
            ],
            "text/plain": [
              "   age  sex  cp  trestbps  chol  ...  oldpeak  slope  ca        thal  target\n",
              "0   63    1   1       145   233  ...      2.3      3   0       fixed       0\n",
              "1   67    1   4       160   286  ...      1.5      2   3      normal       1\n",
              "2   67    1   4       120   229  ...      2.6      2   2  reversible       0\n",
              "3   37    1   3       130   250  ...      3.5      3   0      normal       0\n",
              "4   41    0   2       130   204  ...      1.4      1   0      normal       0\n",
              "\n",
              "[5 rows x 14 columns]"
            ]
          },
          "metadata": {
            "tags": []
          },
          "execution_count": 4
        }
      ]
    },
    {
      "cell_type": "code",
      "metadata": {
        "id": "3te_z59q7co4",
        "colab_type": "code",
        "colab": {
          "base_uri": "https://localhost:8080/",
          "height": 34
        },
        "outputId": "ade0ee2b-44af-420d-db10-d0bb2779fb31"
      },
      "source": [
        "print('diagnosed ==', df.query(\"target == '1'\")[\"target\"].count())"
      ],
      "execution_count": 5,
      "outputs": [
        {
          "output_type": "stream",
          "text": [
            "diagnosed == 83\n"
          ],
          "name": "stdout"
        }
      ]
    },
    {
      "cell_type": "markdown",
      "metadata": {
        "id": "A_pK_6YQeK2j",
        "colab_type": "text"
      },
      "source": [
        "# tf -> \"thal is object\""
      ]
    },
    {
      "cell_type": "code",
      "metadata": {
        "id": "vbUrM6jBbOgI",
        "colab_type": "code",
        "colab": {
          "base_uri": "https://localhost:8080/",
          "height": 272
        },
        "outputId": "36c8f352-5f0b-4f78-aa73-99e9303e3a78"
      },
      "source": [
        "df.dtypes #thal is object\n",
        "df.thal = df.thal.astype('category').cat.codes\n",
        "\n",
        "for i in df.columns:\n",
        "        df[i]=df[i].astype(float)\n",
        "df.dtypes"
      ],
      "execution_count": 6,
      "outputs": [
        {
          "output_type": "execute_result",
          "data": {
            "text/plain": [
              "age         float64\n",
              "sex         float64\n",
              "cp          float64\n",
              "trestbps    float64\n",
              "chol        float64\n",
              "fbs         float64\n",
              "restecg     float64\n",
              "thalach     float64\n",
              "exang       float64\n",
              "oldpeak     float64\n",
              "slope       float64\n",
              "ca          float64\n",
              "thal        float64\n",
              "target      float64\n",
              "dtype: object"
            ]
          },
          "metadata": {
            "tags": []
          },
          "execution_count": 6
        }
      ]
    },
    {
      "cell_type": "markdown",
      "metadata": {
        "id": "0hYqt-3aeNdR",
        "colab_type": "text"
      },
      "source": [
        "# tf -> \"Convert thal column which is an object in the dataframe to a discrete numerical value\""
      ]
    },
    {
      "cell_type": "code",
      "metadata": {
        "id": "eINE32i0bTqu",
        "colab_type": "code",
        "colab": {}
      },
      "source": [
        "#df['thal'] = pd.Categorical(df['thal'])\n",
        "#df['thal'] = df.thal.cat.codes"
      ],
      "execution_count": 7,
      "outputs": []
    },
    {
      "cell_type": "markdown",
      "metadata": {
        "id": "44GeomzHeQSC",
        "colab_type": "text"
      },
      "source": [
        "# tf -> \"tf.data.Dataset.from_tensor_slices\""
      ]
    },
    {
      "cell_type": "code",
      "metadata": {
        "id": "c860IRAibnu7",
        "colab_type": "code",
        "colab": {
          "base_uri": "https://localhost:8080/",
          "height": 187
        },
        "outputId": "ba7076f5-c6a1-4949-bc28-462bb819af77"
      },
      "source": [
        "target = df.pop('target')\n",
        "dataset = tf.data.Dataset.from_tensor_slices((df.values, target.values))\n",
        "for feat, targ in dataset.take(5):\n",
        "  print ('Features: {}, Target: {}'.format(feat, targ))"
      ],
      "execution_count": 8,
      "outputs": [
        {
          "output_type": "stream",
          "text": [
            "Features: [ 63.    1.    1.  145.  233.    1.    2.  150.    0.    2.3   3.    0.\n",
            "   2. ], Target: 0.0\n",
            "Features: [ 67.    1.    4.  160.  286.    0.    2.  108.    1.    1.5   2.    3.\n",
            "   3. ], Target: 1.0\n",
            "Features: [ 67.    1.    4.  120.  229.    0.    2.  129.    1.    2.6   2.    2.\n",
            "   4. ], Target: 0.0\n",
            "Features: [ 37.    1.    3.  130.  250.    0.    0.  187.    0.    3.5   3.    0.\n",
            "   3. ], Target: 0.0\n",
            "Features: [ 41.    0.    2.  130.  204.    0.    2.  172.    0.    1.4   1.    0.\n",
            "   3. ], Target: 0.0\n"
          ],
          "name": "stdout"
        }
      ]
    },
    {
      "cell_type": "markdown",
      "metadata": {
        "id": "XqpiF1OQeTNx",
        "colab_type": "text"
      },
      "source": [
        "# tf -> \"Since a pd.Series implements the array protocol it can be used transparently nearly anywhere you would use a np.array or a tf.Tensor\""
      ]
    },
    {
      "cell_type": "code",
      "metadata": {
        "id": "yP90wdw3dJYS",
        "colab_type": "code",
        "colab": {
          "base_uri": "https://localhost:8080/",
          "height": 340
        },
        "outputId": "90f1e7fe-14d5-4fef-b849-a31239246973"
      },
      "source": [
        "tf.constant(df['thal'])\n"
      ],
      "execution_count": 9,
      "outputs": [
        {
          "output_type": "execute_result",
          "data": {
            "text/plain": [
              "<tf.Tensor: shape=(303,), dtype=float64, numpy=\n",
              "array([2., 3., 4., 3., 3., 3., 3., 3., 4., 4., 2., 3., 2., 4., 4., 3., 4.,\n",
              "       3., 3., 3., 3., 3., 3., 4., 4., 3., 3., 3., 3., 4., 3., 4., 3., 4.,\n",
              "       3., 3., 4., 2., 4., 3., 4., 3., 4., 4., 2., 3., 3., 4., 3., 3., 4.,\n",
              "       3., 3., 3., 4., 3., 3., 3., 3., 3., 3., 4., 4., 3., 3., 4., 4., 2.,\n",
              "       3., 3., 4., 3., 4., 3., 3., 4., 4., 3., 3., 4., 4., 3., 3., 3., 3.,\n",
              "       4., 4., 4., 3., 3., 4., 3., 4., 4., 3., 4., 3., 3., 3., 4., 3., 4.,\n",
              "       4., 3., 3., 4., 4., 4., 4., 4., 3., 3., 3., 3., 4., 3., 4., 3., 4.,\n",
              "       4., 3., 3., 2., 4., 4., 2., 3., 3., 4., 4., 3., 4., 3., 3., 4., 2.,\n",
              "       4., 4., 3., 4., 3., 3., 3., 3., 3., 3., 3., 3., 3., 4., 4., 4., 4.,\n",
              "       4., 4., 3., 3., 3., 4., 3., 4., 3., 4., 3., 3., 3., 3., 3., 3., 3.,\n",
              "       4., 3., 3., 3., 3., 3., 3., 3., 3., 3., 3., 3., 3., 4., 4., 3., 3.,\n",
              "       3., 3., 3., 3., 3., 3., 4., 3., 4., 3., 2., 4., 4., 3., 3., 3., 3.,\n",
              "       3., 3., 4., 3., 3., 3., 3., 3., 2., 2., 4., 3., 4., 2., 4., 3., 3.,\n",
              "       4., 3., 3., 3., 3., 4., 3., 4., 3., 4., 2., 2., 4., 3., 4., 3., 2.,\n",
              "       4., 3., 3., 2., 4., 4., 4., 4., 3., 0., 3., 3., 3., 3., 1., 4., 3.,\n",
              "       3., 3., 4., 3., 4., 3., 3., 3., 4., 3., 3., 4., 4., 4., 4., 3., 3.,\n",
              "       4., 3., 4., 3., 4., 4., 3., 4., 4., 3., 4., 4., 3., 3., 3., 3., 3.,\n",
              "       3., 4., 4., 4., 4., 4., 4., 4., 3., 2., 4., 4., 4., 4.])>"
            ]
          },
          "metadata": {
            "tags": []
          },
          "execution_count": 9
        }
      ]
    },
    {
      "cell_type": "markdown",
      "metadata": {
        "id": "t2DULGzheVFf",
        "colab_type": "text"
      },
      "source": [
        "# tf -> \"Shuffle and batch the dataset\""
      ]
    },
    {
      "cell_type": "code",
      "metadata": {
        "id": "m1V-ixN5dNwu",
        "colab_type": "code",
        "colab": {}
      },
      "source": [
        "train_dataset = dataset.shuffle(len(df)).batch(1)\n"
      ],
      "execution_count": 10,
      "outputs": []
    },
    {
      "cell_type": "markdown",
      "metadata": {
        "id": "mxGGRTFsd1k1",
        "colab_type": "text"
      },
      "source": [
        "# tf -> \"Create and train a model\""
      ]
    },
    {
      "cell_type": "code",
      "metadata": {
        "id": "hAIDHlldd3b0",
        "colab_type": "code",
        "colab": {
          "base_uri": "https://localhost:8080/",
          "height": 666
        },
        "outputId": "b3e47011-d049-46c1-fcf0-f968d0baf1e0"
      },
      "source": [
        "def get_compiled_model():\n",
        "  model = tf.keras.Sequential([\n",
        "    tf.keras.layers.Dense(10, activation='relu'),\n",
        "    tf.keras.layers.Dense(10, activation='relu'),\n",
        "    tf.keras.layers.Dense(1)\n",
        "  ])\n",
        "\n",
        "  model.compile(optimizer='adam',\n",
        "                loss=tf.keras.losses.BinaryCrossentropy(from_logits=True),\n",
        "                metrics=['accuracy'])\n",
        "  return model\n",
        "\n",
        "\n",
        "model = get_compiled_model()\n",
        "model.fit(train_dataset, epochs=15)"
      ],
      "execution_count": 11,
      "outputs": [
        {
          "output_type": "stream",
          "text": [
            "Epoch 1/15\n",
            "WARNING:tensorflow:Layer dense is casting an input tensor from dtype float64 to the layer's dtype of float32, which is new behavior in TensorFlow 2.  The layer has dtype float32 because it's dtype defaults to floatx.\n",
            "\n",
            "If you intended to run this layer in float32, you can safely ignore this warning. If in doubt, this warning is likely only an issue if you are porting a TensorFlow 1.X model to TensorFlow 2.\n",
            "\n",
            "To change all layers to have dtype float64 by default, call `tf.keras.backend.set_floatx('float64')`. To change just this layer, pass dtype='float64' to the layer constructor. If you are the author of this layer, you can disable autocasting by passing autocast=False to the base Layer constructor.\n",
            "\n",
            "303/303 [==============================] - 0s 1ms/step - loss: 26.8334 - accuracy: 0.3399\n",
            "Epoch 2/15\n",
            "303/303 [==============================] - 0s 1ms/step - loss: 0.7835 - accuracy: 0.7096\n",
            "Epoch 3/15\n",
            "303/303 [==============================] - 0s 1ms/step - loss: 0.6682 - accuracy: 0.7195\n",
            "Epoch 4/15\n",
            "303/303 [==============================] - 0s 1ms/step - loss: 0.6106 - accuracy: 0.7261\n",
            "Epoch 5/15\n",
            "303/303 [==============================] - 0s 1ms/step - loss: 0.5940 - accuracy: 0.7228\n",
            "Epoch 6/15\n",
            "303/303 [==============================] - 0s 1ms/step - loss: 0.5960 - accuracy: 0.7228\n",
            "Epoch 7/15\n",
            "303/303 [==============================] - 0s 1ms/step - loss: 0.6049 - accuracy: 0.7228\n",
            "Epoch 8/15\n",
            "303/303 [==============================] - 0s 1ms/step - loss: 0.5768 - accuracy: 0.7261\n",
            "Epoch 9/15\n",
            "303/303 [==============================] - 0s 1ms/step - loss: 0.5660 - accuracy: 0.7261\n",
            "Epoch 10/15\n",
            "303/303 [==============================] - 0s 1ms/step - loss: 0.5540 - accuracy: 0.7294\n",
            "Epoch 11/15\n",
            "303/303 [==============================] - 0s 1ms/step - loss: 0.5455 - accuracy: 0.7261\n",
            "Epoch 12/15\n",
            "303/303 [==============================] - 0s 1ms/step - loss: 0.5281 - accuracy: 0.7261\n",
            "Epoch 13/15\n",
            "303/303 [==============================] - 0s 1ms/step - loss: 0.5346 - accuracy: 0.7393\n",
            "Epoch 14/15\n",
            "303/303 [==============================] - 0s 1ms/step - loss: 0.5125 - accuracy: 0.7294\n",
            "Epoch 15/15\n",
            "303/303 [==============================] - 0s 1ms/step - loss: 0.5015 - accuracy: 0.7327\n"
          ],
          "name": "stdout"
        },
        {
          "output_type": "execute_result",
          "data": {
            "text/plain": [
              "<tensorflow.python.keras.callbacks.History at 0x7fdb5b1e2cf8>"
            ]
          },
          "metadata": {
            "tags": []
          },
          "execution_count": 11
        }
      ]
    },
    {
      "cell_type": "markdown",
      "metadata": {
        "id": "FLNAmbNNej5T",
        "colab_type": "text"
      },
      "source": [
        "# tf -> \"Alternative to feature columns\""
      ]
    },
    {
      "cell_type": "code",
      "metadata": {
        "id": "SbuL6oYiekcg",
        "colab_type": "code",
        "colab": {}
      },
      "source": [
        "inputs = {key: tf.keras.layers.Input(shape=(), name=key) for key in df.keys()}\n",
        "x = tf.stack(list(inputs.values()), axis=-1)\n",
        "\n",
        "x = tf.keras.layers.Dense(10, activation='relu')(x)\n",
        "output = tf.keras.layers.Dense(1)(x)\n",
        "\n",
        "model_func = tf.keras.Model(inputs=inputs, outputs=output)\n",
        "\n",
        "model_func.compile(optimizer='adam',\n",
        "                   loss=tf.keras.losses.BinaryCrossentropy(from_logits=True),\n",
        "                   metrics=['accuracy'])"
      ],
      "execution_count": 12,
      "outputs": []
    },
    {
      "cell_type": "markdown",
      "metadata": {
        "id": "YuA05Lfyffqk",
        "colab_type": "text"
      },
      "source": [
        "# tf -> \"The easiest way to preserve the column structure of a pd.DataFrame when used with tf.data is to convert the pd.DataFrame to a dict, and slice that dictionary\""
      ]
    },
    {
      "cell_type": "code",
      "metadata": {
        "id": "MnzBroZ0fiMU",
        "colab_type": "code",
        "colab": {
          "base_uri": "https://localhost:8080/",
          "height": 1000
        },
        "outputId": "27f56685-4f61-45e2-85ff-06f5320e2921"
      },
      "source": [
        "dict_slices = tf.data.Dataset.from_tensor_slices((df.to_dict('list'), target.values)).batch(16)\n",
        "\n",
        "for dict_slice in dict_slices.take(1):\n",
        "  print (dict_slice)\n",
        "\n",
        "model_func.fit(dict_slices, epochs=15)\n",
        "\n",
        "# www https://www.tensorflow.org/tutorials/load_data/pandas_dataframe"
      ],
      "execution_count": 13,
      "outputs": [
        {
          "output_type": "stream",
          "text": [
            "({'age': <tf.Tensor: shape=(16,), dtype=float32, numpy=\n",
            "array([63., 67., 67., 37., 41., 56., 62., 57., 63., 53., 57., 56., 56.,\n",
            "       44., 52., 57.], dtype=float32)>, 'sex': <tf.Tensor: shape=(16,), dtype=float32, numpy=\n",
            "array([1., 1., 1., 1., 0., 1., 0., 0., 1., 1., 1., 0., 1., 1., 1., 1.],\n",
            "      dtype=float32)>, 'cp': <tf.Tensor: shape=(16,), dtype=float32, numpy=\n",
            "array([1., 4., 4., 3., 2., 2., 4., 4., 4., 4., 4., 2., 3., 2., 3., 3.],\n",
            "      dtype=float32)>, 'trestbps': <tf.Tensor: shape=(16,), dtype=float32, numpy=\n",
            "array([145., 160., 120., 130., 130., 120., 140., 120., 130., 140., 140.,\n",
            "       140., 130., 120., 172., 150.], dtype=float32)>, 'chol': <tf.Tensor: shape=(16,), dtype=float32, numpy=\n",
            "array([233., 286., 229., 250., 204., 236., 268., 354., 254., 203., 192.,\n",
            "       294., 256., 263., 199., 168.], dtype=float32)>, 'fbs': <tf.Tensor: shape=(16,), dtype=float32, numpy=\n",
            "array([1., 0., 0., 0., 0., 0., 0., 0., 0., 1., 0., 0., 1., 0., 1., 0.],\n",
            "      dtype=float32)>, 'restecg': <tf.Tensor: shape=(16,), dtype=float32, numpy=\n",
            "array([2., 2., 2., 0., 2., 0., 2., 0., 2., 2., 0., 2., 2., 0., 0., 0.],\n",
            "      dtype=float32)>, 'thalach': <tf.Tensor: shape=(16,), dtype=float32, numpy=\n",
            "array([150., 108., 129., 187., 172., 178., 160., 163., 147., 155., 148.,\n",
            "       153., 142., 173., 162., 174.], dtype=float32)>, 'exang': <tf.Tensor: shape=(16,), dtype=float32, numpy=\n",
            "array([0., 1., 1., 0., 0., 0., 0., 1., 0., 1., 0., 0., 1., 0., 0., 0.],\n",
            "      dtype=float32)>, 'oldpeak': <tf.Tensor: shape=(16,), dtype=float32, numpy=\n",
            "array([2.3, 1.5, 2.6, 3.5, 1.4, 0.8, 3.6, 0.6, 1.4, 3.1, 0.4, 1.3, 0.6,\n",
            "       0. , 0.5, 1.6], dtype=float32)>, 'slope': <tf.Tensor: shape=(16,), dtype=float32, numpy=\n",
            "array([3., 2., 2., 3., 1., 1., 3., 1., 2., 3., 2., 2., 2., 1., 1., 1.],\n",
            "      dtype=float32)>, 'ca': <tf.Tensor: shape=(16,), dtype=float32, numpy=\n",
            "array([0., 3., 2., 0., 0., 0., 2., 0., 1., 0., 0., 0., 1., 0., 0., 0.],\n",
            "      dtype=float32)>, 'thal': <tf.Tensor: shape=(16,), dtype=float32, numpy=\n",
            "array([2., 3., 4., 3., 3., 3., 3., 3., 4., 4., 2., 3., 2., 4., 4., 3.],\n",
            "      dtype=float32)>}, <tf.Tensor: shape=(16,), dtype=float64, numpy=array([0., 1., 0., 0., 0., 0., 1., 0., 1., 0., 0., 0., 1., 0., 0., 0.])>)\n",
            "Epoch 1/15\n",
            "19/19 [==============================] - 0s 2ms/step - loss: 6.4575 - accuracy: 0.7327\n",
            "Epoch 2/15\n",
            "19/19 [==============================] - 0s 1ms/step - loss: 4.1210 - accuracy: 0.6766\n",
            "Epoch 3/15\n",
            "19/19 [==============================] - 0s 1ms/step - loss: 3.8151 - accuracy: 0.7030\n",
            "Epoch 4/15\n",
            "19/19 [==============================] - 0s 1ms/step - loss: 3.6722 - accuracy: 0.7063\n",
            "Epoch 5/15\n",
            "19/19 [==============================] - 0s 1ms/step - loss: 3.5676 - accuracy: 0.7030\n",
            "Epoch 6/15\n",
            "19/19 [==============================] - 0s 2ms/step - loss: 3.4512 - accuracy: 0.7096\n",
            "Epoch 7/15\n",
            "19/19 [==============================] - 0s 2ms/step - loss: 3.3423 - accuracy: 0.7129\n",
            "Epoch 8/15\n",
            "19/19 [==============================] - 0s 2ms/step - loss: 3.2361 - accuracy: 0.7096\n",
            "Epoch 9/15\n",
            "19/19 [==============================] - 0s 2ms/step - loss: 3.1336 - accuracy: 0.7096\n",
            "Epoch 10/15\n",
            "19/19 [==============================] - 0s 2ms/step - loss: 3.0355 - accuracy: 0.7129\n",
            "Epoch 11/15\n",
            "19/19 [==============================] - 0s 2ms/step - loss: 2.9418 - accuracy: 0.7162\n",
            "Epoch 12/15\n",
            "19/19 [==============================] - 0s 2ms/step - loss: 2.8526 - accuracy: 0.7063\n",
            "Epoch 13/15\n",
            "19/19 [==============================] - 0s 2ms/step - loss: 2.7678 - accuracy: 0.7030\n",
            "Epoch 14/15\n",
            "19/19 [==============================] - 0s 2ms/step - loss: 2.6870 - accuracy: 0.7063\n",
            "Epoch 15/15\n",
            "19/19 [==============================] - 0s 2ms/step - loss: 2.6098 - accuracy: 0.7129\n"
          ],
          "name": "stdout"
        },
        {
          "output_type": "execute_result",
          "data": {
            "text/plain": [
              "<tensorflow.python.keras.callbacks.History at 0x7fdb63156860>"
            ]
          },
          "metadata": {
            "tags": []
          },
          "execution_count": 13
        }
      ]
    }
  ]
}