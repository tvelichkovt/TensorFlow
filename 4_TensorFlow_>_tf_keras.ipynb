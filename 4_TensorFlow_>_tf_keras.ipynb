{
  "nbformat": 4,
  "nbformat_minor": 0,
  "metadata": {
    "colab": {
      "name": "4_TensorFlow -> tf.keras.ipynb",
      "provenance": [],
      "collapsed_sections": [],
      "mount_file_id": "1f1dz_Td1mJO-Cldt4IcxwRhjHHSp72V3",
      "authorship_tag": "ABX9TyP0ayTYzfpKKv3Yhk/SvX9G",
      "include_colab_link": true
    },
    "kernelspec": {
      "name": "python3",
      "display_name": "Python 3"
    }
  },
  "cells": [
    {
      "cell_type": "markdown",
      "metadata": {
        "id": "view-in-github",
        "colab_type": "text"
      },
      "source": [
        "<a href=\"https://colab.research.google.com/github/tvelichkovt/TensorFlow/blob/master/4_TensorFlow_%3E_tf_keras.ipynb\" target=\"_parent\"><img src=\"https://colab.research.google.com/assets/colab-badge.svg\" alt=\"Open In Colab\"/></a>"
      ]
    },
    {
      "cell_type": "markdown",
      "metadata": {
        "id": "SyXEFt5lijVL",
        "colab_type": "text"
      },
      "source": [
        "\n",
        "\n",
        "---\n",
        "\n",
        "\n",
        "\n",
        "Test the Environment and TensorFlow ver > 2.x\n",
        "\n",
        "---\n",
        "\n",
        "\n"
      ]
    },
    {
      "cell_type": "code",
      "metadata": {
        "id": "YDJ4_hz8DnMZ",
        "colab_type": "code",
        "outputId": "0c938349-edd1-4f44-e1ad-afeb27f94f70",
        "colab": {
          "base_uri": "https://localhost:8080/",
          "height": 85
        }
      },
      "source": [
        "from __future__ import absolute_import, division, print_function, unicode_literals\n",
        "\n",
        "try:\n",
        "    %tensorflow_version 2.x\n",
        "except Exception:\n",
        "  pass\n",
        "\n",
        "import tensorflow as tf\n",
        "from tensorflow import keras\n",
        "import matplotlib.pyplot as plt\n",
        "import numpy as np\n",
        "import pandas as pd\n",
        "\n",
        "print('TensorFlow ver is:', tf.__version__, '\\nKeras ver is:', keras.__version__, '\\nPandas ver is:', pd.__version__, '\\nNumpy ver is:', np.__version__)"
      ],
      "execution_count": 117,
      "outputs": [
        {
          "output_type": "stream",
          "text": [
            "TensorFlow ver is: 2.1.0 \n",
            "Keras ver is: 2.2.4-tf \n",
            "Pandas ver is: 0.25.3 \n",
            "Numpy ver is: 1.17.5\n"
          ],
          "name": "stdout"
        }
      ]
    },
    {
      "cell_type": "markdown",
      "metadata": {
        "id": "bFwu164XeDqa",
        "colab_type": "text"
      },
      "source": [
        "\n",
        "\n",
        "---\n",
        "\n",
        "\n",
        "\n",
        "Download the csv file containing the heart dataset\n",
        "\n",
        "---\n",
        "\n"
      ]
    },
    {
      "cell_type": "code",
      "metadata": {
        "id": "F5rig8IwYYml",
        "colab_type": "code",
        "outputId": "b1ee7c27-7520-40d7-cbdf-964e4dadbe77",
        "colab": {
          "base_uri": "https://localhost:8080/",
          "height": 204
        }
      },
      "source": [
        "csv_file = tf.keras.utils.get_file('heart.csv', 'https://storage.googleapis.com/applied-dl/heart.csv')\n",
        "df = pd.read_csv(csv_file)\n",
        "df.head()\n"
      ],
      "execution_count": 118,
      "outputs": [
        {
          "output_type": "execute_result",
          "data": {
            "text/html": [
              "<div>\n",
              "<style scoped>\n",
              "    .dataframe tbody tr th:only-of-type {\n",
              "        vertical-align: middle;\n",
              "    }\n",
              "\n",
              "    .dataframe tbody tr th {\n",
              "        vertical-align: top;\n",
              "    }\n",
              "\n",
              "    .dataframe thead th {\n",
              "        text-align: right;\n",
              "    }\n",
              "</style>\n",
              "<table border=\"1\" class=\"dataframe\">\n",
              "  <thead>\n",
              "    <tr style=\"text-align: right;\">\n",
              "      <th></th>\n",
              "      <th>age</th>\n",
              "      <th>sex</th>\n",
              "      <th>cp</th>\n",
              "      <th>trestbps</th>\n",
              "      <th>chol</th>\n",
              "      <th>fbs</th>\n",
              "      <th>restecg</th>\n",
              "      <th>thalach</th>\n",
              "      <th>exang</th>\n",
              "      <th>oldpeak</th>\n",
              "      <th>slope</th>\n",
              "      <th>ca</th>\n",
              "      <th>thal</th>\n",
              "      <th>target</th>\n",
              "    </tr>\n",
              "  </thead>\n",
              "  <tbody>\n",
              "    <tr>\n",
              "      <th>0</th>\n",
              "      <td>63</td>\n",
              "      <td>1</td>\n",
              "      <td>1</td>\n",
              "      <td>145</td>\n",
              "      <td>233</td>\n",
              "      <td>1</td>\n",
              "      <td>2</td>\n",
              "      <td>150</td>\n",
              "      <td>0</td>\n",
              "      <td>2.3</td>\n",
              "      <td>3</td>\n",
              "      <td>0</td>\n",
              "      <td>fixed</td>\n",
              "      <td>0</td>\n",
              "    </tr>\n",
              "    <tr>\n",
              "      <th>1</th>\n",
              "      <td>67</td>\n",
              "      <td>1</td>\n",
              "      <td>4</td>\n",
              "      <td>160</td>\n",
              "      <td>286</td>\n",
              "      <td>0</td>\n",
              "      <td>2</td>\n",
              "      <td>108</td>\n",
              "      <td>1</td>\n",
              "      <td>1.5</td>\n",
              "      <td>2</td>\n",
              "      <td>3</td>\n",
              "      <td>normal</td>\n",
              "      <td>1</td>\n",
              "    </tr>\n",
              "    <tr>\n",
              "      <th>2</th>\n",
              "      <td>67</td>\n",
              "      <td>1</td>\n",
              "      <td>4</td>\n",
              "      <td>120</td>\n",
              "      <td>229</td>\n",
              "      <td>0</td>\n",
              "      <td>2</td>\n",
              "      <td>129</td>\n",
              "      <td>1</td>\n",
              "      <td>2.6</td>\n",
              "      <td>2</td>\n",
              "      <td>2</td>\n",
              "      <td>reversible</td>\n",
              "      <td>0</td>\n",
              "    </tr>\n",
              "    <tr>\n",
              "      <th>3</th>\n",
              "      <td>37</td>\n",
              "      <td>1</td>\n",
              "      <td>3</td>\n",
              "      <td>130</td>\n",
              "      <td>250</td>\n",
              "      <td>0</td>\n",
              "      <td>0</td>\n",
              "      <td>187</td>\n",
              "      <td>0</td>\n",
              "      <td>3.5</td>\n",
              "      <td>3</td>\n",
              "      <td>0</td>\n",
              "      <td>normal</td>\n",
              "      <td>0</td>\n",
              "    </tr>\n",
              "    <tr>\n",
              "      <th>4</th>\n",
              "      <td>41</td>\n",
              "      <td>0</td>\n",
              "      <td>2</td>\n",
              "      <td>130</td>\n",
              "      <td>204</td>\n",
              "      <td>0</td>\n",
              "      <td>2</td>\n",
              "      <td>172</td>\n",
              "      <td>0</td>\n",
              "      <td>1.4</td>\n",
              "      <td>1</td>\n",
              "      <td>0</td>\n",
              "      <td>normal</td>\n",
              "      <td>0</td>\n",
              "    </tr>\n",
              "  </tbody>\n",
              "</table>\n",
              "</div>"
            ],
            "text/plain": [
              "   age  sex  cp  trestbps  chol  ...  oldpeak  slope  ca        thal  target\n",
              "0   63    1   1       145   233  ...      2.3      3   0       fixed       0\n",
              "1   67    1   4       160   286  ...      1.5      2   3      normal       1\n",
              "2   67    1   4       120   229  ...      2.6      2   2  reversible       0\n",
              "3   37    1   3       130   250  ...      3.5      3   0      normal       0\n",
              "4   41    0   2       130   204  ...      1.4      1   0      normal       0\n",
              "\n",
              "[5 rows x 14 columns]"
            ]
          },
          "metadata": {
            "tags": []
          },
          "execution_count": 118
        }
      ]
    },
    {
      "cell_type": "code",
      "metadata": {
        "id": "ed0WrQPlakxN",
        "colab_type": "code",
        "outputId": "1a57ce0d-1611-4848-c7af-cbf806d9cea3",
        "colab": {
          "base_uri": "https://localhost:8080/",
          "height": 204
        }
      },
      "source": [
        "df.head()"
      ],
      "execution_count": 119,
      "outputs": [
        {
          "output_type": "execute_result",
          "data": {
            "text/html": [
              "<div>\n",
              "<style scoped>\n",
              "    .dataframe tbody tr th:only-of-type {\n",
              "        vertical-align: middle;\n",
              "    }\n",
              "\n",
              "    .dataframe tbody tr th {\n",
              "        vertical-align: top;\n",
              "    }\n",
              "\n",
              "    .dataframe thead th {\n",
              "        text-align: right;\n",
              "    }\n",
              "</style>\n",
              "<table border=\"1\" class=\"dataframe\">\n",
              "  <thead>\n",
              "    <tr style=\"text-align: right;\">\n",
              "      <th></th>\n",
              "      <th>age</th>\n",
              "      <th>sex</th>\n",
              "      <th>cp</th>\n",
              "      <th>trestbps</th>\n",
              "      <th>chol</th>\n",
              "      <th>fbs</th>\n",
              "      <th>restecg</th>\n",
              "      <th>thalach</th>\n",
              "      <th>exang</th>\n",
              "      <th>oldpeak</th>\n",
              "      <th>slope</th>\n",
              "      <th>ca</th>\n",
              "      <th>thal</th>\n",
              "      <th>target</th>\n",
              "    </tr>\n",
              "  </thead>\n",
              "  <tbody>\n",
              "    <tr>\n",
              "      <th>0</th>\n",
              "      <td>63</td>\n",
              "      <td>1</td>\n",
              "      <td>1</td>\n",
              "      <td>145</td>\n",
              "      <td>233</td>\n",
              "      <td>1</td>\n",
              "      <td>2</td>\n",
              "      <td>150</td>\n",
              "      <td>0</td>\n",
              "      <td>2.3</td>\n",
              "      <td>3</td>\n",
              "      <td>0</td>\n",
              "      <td>fixed</td>\n",
              "      <td>0</td>\n",
              "    </tr>\n",
              "    <tr>\n",
              "      <th>1</th>\n",
              "      <td>67</td>\n",
              "      <td>1</td>\n",
              "      <td>4</td>\n",
              "      <td>160</td>\n",
              "      <td>286</td>\n",
              "      <td>0</td>\n",
              "      <td>2</td>\n",
              "      <td>108</td>\n",
              "      <td>1</td>\n",
              "      <td>1.5</td>\n",
              "      <td>2</td>\n",
              "      <td>3</td>\n",
              "      <td>normal</td>\n",
              "      <td>1</td>\n",
              "    </tr>\n",
              "    <tr>\n",
              "      <th>2</th>\n",
              "      <td>67</td>\n",
              "      <td>1</td>\n",
              "      <td>4</td>\n",
              "      <td>120</td>\n",
              "      <td>229</td>\n",
              "      <td>0</td>\n",
              "      <td>2</td>\n",
              "      <td>129</td>\n",
              "      <td>1</td>\n",
              "      <td>2.6</td>\n",
              "      <td>2</td>\n",
              "      <td>2</td>\n",
              "      <td>reversible</td>\n",
              "      <td>0</td>\n",
              "    </tr>\n",
              "    <tr>\n",
              "      <th>3</th>\n",
              "      <td>37</td>\n",
              "      <td>1</td>\n",
              "      <td>3</td>\n",
              "      <td>130</td>\n",
              "      <td>250</td>\n",
              "      <td>0</td>\n",
              "      <td>0</td>\n",
              "      <td>187</td>\n",
              "      <td>0</td>\n",
              "      <td>3.5</td>\n",
              "      <td>3</td>\n",
              "      <td>0</td>\n",
              "      <td>normal</td>\n",
              "      <td>0</td>\n",
              "    </tr>\n",
              "    <tr>\n",
              "      <th>4</th>\n",
              "      <td>41</td>\n",
              "      <td>0</td>\n",
              "      <td>2</td>\n",
              "      <td>130</td>\n",
              "      <td>204</td>\n",
              "      <td>0</td>\n",
              "      <td>2</td>\n",
              "      <td>172</td>\n",
              "      <td>0</td>\n",
              "      <td>1.4</td>\n",
              "      <td>1</td>\n",
              "      <td>0</td>\n",
              "      <td>normal</td>\n",
              "      <td>0</td>\n",
              "    </tr>\n",
              "  </tbody>\n",
              "</table>\n",
              "</div>"
            ],
            "text/plain": [
              "   age  sex  cp  trestbps  chol  ...  oldpeak  slope  ca        thal  target\n",
              "0   63    1   1       145   233  ...      2.3      3   0       fixed       0\n",
              "1   67    1   4       160   286  ...      1.5      2   3      normal       1\n",
              "2   67    1   4       120   229  ...      2.6      2   2  reversible       0\n",
              "3   37    1   3       130   250  ...      3.5      3   0      normal       0\n",
              "4   41    0   2       130   204  ...      1.4      1   0      normal       0\n",
              "\n",
              "[5 rows x 14 columns]"
            ]
          },
          "metadata": {
            "tags": []
          },
          "execution_count": 119
        }
      ]
    },
    {
      "cell_type": "code",
      "metadata": {
        "id": "3te_z59q7co4",
        "colab_type": "code",
        "colab": {
          "base_uri": "https://localhost:8080/",
          "height": 34
        },
        "outputId": "c24dda95-694d-430b-d451-c23c06e8d771"
      },
      "source": [
        "print('diagnosed ==', df.query(\"target == '1'\")[\"target\"].count())"
      ],
      "execution_count": 120,
      "outputs": [
        {
          "output_type": "stream",
          "text": [
            "diagnosed == 83\n"
          ],
          "name": "stdout"
        }
      ]
    },
    {
      "cell_type": "markdown",
      "metadata": {
        "id": "A_pK_6YQeK2j",
        "colab_type": "text"
      },
      "source": [
        "---\n",
        "\n",
        "\n",
        "thal is object\n",
        "\n",
        "\n",
        "\n",
        "\n",
        "---\n",
        "\n"
      ]
    },
    {
      "cell_type": "code",
      "metadata": {
        "id": "vbUrM6jBbOgI",
        "colab_type": "code",
        "outputId": "9ced32e2-4811-4fd0-b93c-0e3dad06ec49",
        "colab": {
          "base_uri": "https://localhost:8080/",
          "height": 272
        }
      },
      "source": [
        "df.dtypes #thal is object\n",
        "df.thal = df.thal.astype('category').cat.codes\n",
        "\n",
        "for i in df.columns:\n",
        "        df[i]=df[i].astype(float)\n",
        "df.dtypes"
      ],
      "execution_count": 121,
      "outputs": [
        {
          "output_type": "execute_result",
          "data": {
            "text/plain": [
              "age         float64\n",
              "sex         float64\n",
              "cp          float64\n",
              "trestbps    float64\n",
              "chol        float64\n",
              "fbs         float64\n",
              "restecg     float64\n",
              "thalach     float64\n",
              "exang       float64\n",
              "oldpeak     float64\n",
              "slope       float64\n",
              "ca          float64\n",
              "thal        float64\n",
              "target      float64\n",
              "dtype: object"
            ]
          },
          "metadata": {
            "tags": []
          },
          "execution_count": 121
        }
      ]
    },
    {
      "cell_type": "markdown",
      "metadata": {
        "id": "0hYqt-3aeNdR",
        "colab_type": "text"
      },
      "source": [
        "---\n",
        "Convert thal column which is an object in the dataframe to a discrete numerical value.\n",
        "\n",
        "---\n",
        "\n"
      ]
    },
    {
      "cell_type": "code",
      "metadata": {
        "id": "eINE32i0bTqu",
        "colab_type": "code",
        "colab": {}
      },
      "source": [
        "#df['thal'] = pd.Categorical(df['thal'])\n",
        "#df['thal'] = df.thal.cat.codes"
      ],
      "execution_count": 0,
      "outputs": []
    },
    {
      "cell_type": "markdown",
      "metadata": {
        "id": "44GeomzHeQSC",
        "colab_type": "text"
      },
      "source": [
        "---\n",
        "tf.data.Dataset.from_tensor_slices\n",
        "\n",
        "---\n",
        "\n"
      ]
    },
    {
      "cell_type": "code",
      "metadata": {
        "id": "c860IRAibnu7",
        "colab_type": "code",
        "outputId": "3ae73d9f-a9d8-40d1-ee00-1e1ffe927a9c",
        "colab": {
          "base_uri": "https://localhost:8080/",
          "height": 187
        }
      },
      "source": [
        "target = df.pop('target')\n",
        "dataset = tf.data.Dataset.from_tensor_slices((df.values, target.values))\n",
        "for feat, targ in dataset.take(5):\n",
        "  print ('Features: {}, Target: {}'.format(feat, targ))"
      ],
      "execution_count": 123,
      "outputs": [
        {
          "output_type": "stream",
          "text": [
            "Features: [ 63.    1.    1.  145.  233.    1.    2.  150.    0.    2.3   3.    0.\n",
            "   2. ], Target: 0.0\n",
            "Features: [ 67.    1.    4.  160.  286.    0.    2.  108.    1.    1.5   2.    3.\n",
            "   3. ], Target: 1.0\n",
            "Features: [ 67.    1.    4.  120.  229.    0.    2.  129.    1.    2.6   2.    2.\n",
            "   4. ], Target: 0.0\n",
            "Features: [ 37.    1.    3.  130.  250.    0.    0.  187.    0.    3.5   3.    0.\n",
            "   3. ], Target: 0.0\n",
            "Features: [ 41.    0.    2.  130.  204.    0.    2.  172.    0.    1.4   1.    0.\n",
            "   3. ], Target: 0.0\n"
          ],
          "name": "stdout"
        }
      ]
    },
    {
      "cell_type": "markdown",
      "metadata": {
        "id": "XqpiF1OQeTNx",
        "colab_type": "text"
      },
      "source": [
        "---\n",
        "Since a pd.Series implements the __array__ protocol it can be used transparently nearly anywhere you would use a np.array or a tf.Tensor.\n",
        "\n",
        "---\n",
        "\n"
      ]
    },
    {
      "cell_type": "code",
      "metadata": {
        "id": "yP90wdw3dJYS",
        "colab_type": "code",
        "colab": {
          "base_uri": "https://localhost:8080/",
          "height": 340
        },
        "outputId": "e4a20857-c5d0-42fb-b396-fd1e24ef4441"
      },
      "source": [
        "tf.constant(df['thal'])\n"
      ],
      "execution_count": 124,
      "outputs": [
        {
          "output_type": "execute_result",
          "data": {
            "text/plain": [
              "<tf.Tensor: shape=(303,), dtype=float64, numpy=\n",
              "array([2., 3., 4., 3., 3., 3., 3., 3., 4., 4., 2., 3., 2., 4., 4., 3., 4.,\n",
              "       3., 3., 3., 3., 3., 3., 4., 4., 3., 3., 3., 3., 4., 3., 4., 3., 4.,\n",
              "       3., 3., 4., 2., 4., 3., 4., 3., 4., 4., 2., 3., 3., 4., 3., 3., 4.,\n",
              "       3., 3., 3., 4., 3., 3., 3., 3., 3., 3., 4., 4., 3., 3., 4., 4., 2.,\n",
              "       3., 3., 4., 3., 4., 3., 3., 4., 4., 3., 3., 4., 4., 3., 3., 3., 3.,\n",
              "       4., 4., 4., 3., 3., 4., 3., 4., 4., 3., 4., 3., 3., 3., 4., 3., 4.,\n",
              "       4., 3., 3., 4., 4., 4., 4., 4., 3., 3., 3., 3., 4., 3., 4., 3., 4.,\n",
              "       4., 3., 3., 2., 4., 4., 2., 3., 3., 4., 4., 3., 4., 3., 3., 4., 2.,\n",
              "       4., 4., 3., 4., 3., 3., 3., 3., 3., 3., 3., 3., 3., 4., 4., 4., 4.,\n",
              "       4., 4., 3., 3., 3., 4., 3., 4., 3., 4., 3., 3., 3., 3., 3., 3., 3.,\n",
              "       4., 3., 3., 3., 3., 3., 3., 3., 3., 3., 3., 3., 3., 4., 4., 3., 3.,\n",
              "       3., 3., 3., 3., 3., 3., 4., 3., 4., 3., 2., 4., 4., 3., 3., 3., 3.,\n",
              "       3., 3., 4., 3., 3., 3., 3., 3., 2., 2., 4., 3., 4., 2., 4., 3., 3.,\n",
              "       4., 3., 3., 3., 3., 4., 3., 4., 3., 4., 2., 2., 4., 3., 4., 3., 2.,\n",
              "       4., 3., 3., 2., 4., 4., 4., 4., 3., 0., 3., 3., 3., 3., 1., 4., 3.,\n",
              "       3., 3., 4., 3., 4., 3., 3., 3., 4., 3., 3., 4., 4., 4., 4., 3., 3.,\n",
              "       4., 3., 4., 3., 4., 4., 3., 4., 4., 3., 4., 4., 3., 3., 3., 3., 3.,\n",
              "       3., 4., 4., 4., 4., 4., 4., 4., 3., 2., 4., 4., 4., 4.])>"
            ]
          },
          "metadata": {
            "tags": []
          },
          "execution_count": 124
        }
      ]
    },
    {
      "cell_type": "markdown",
      "metadata": {
        "id": "t2DULGzheVFf",
        "colab_type": "text"
      },
      "source": [
        "---\n",
        "Shuffle and batch the dataset.\n",
        "\n",
        "---\n",
        "\n"
      ]
    },
    {
      "cell_type": "code",
      "metadata": {
        "id": "m1V-ixN5dNwu",
        "colab_type": "code",
        "colab": {}
      },
      "source": [
        "train_dataset = dataset.shuffle(len(df)).batch(1)\n"
      ],
      "execution_count": 0,
      "outputs": []
    },
    {
      "cell_type": "markdown",
      "metadata": {
        "id": "mxGGRTFsd1k1",
        "colab_type": "text"
      },
      "source": [
        "---\n",
        "Create and train a model\n",
        "\n",
        "---\n",
        "\n"
      ]
    },
    {
      "cell_type": "code",
      "metadata": {
        "id": "hAIDHlldd3b0",
        "colab_type": "code",
        "colab": {
          "base_uri": "https://localhost:8080/",
          "height": 561
        },
        "outputId": "2c85b536-12c4-45eb-b7c4-74e92885d881"
      },
      "source": [
        "def get_compiled_model():\n",
        "  model = tf.keras.Sequential([\n",
        "    tf.keras.layers.Dense(10, activation='relu'),\n",
        "    tf.keras.layers.Dense(10, activation='relu'),\n",
        "    tf.keras.layers.Dense(1)\n",
        "  ])\n",
        "\n",
        "  model.compile(optimizer='adam',\n",
        "                loss=tf.keras.losses.BinaryCrossentropy(from_logits=True),\n",
        "                metrics=['accuracy'])\n",
        "  return model\n",
        "\n",
        "\n",
        "model = get_compiled_model()\n",
        "model.fit(train_dataset, epochs=15)"
      ],
      "execution_count": 126,
      "outputs": [
        {
          "output_type": "stream",
          "text": [
            "Train for 303 steps\n",
            "Epoch 1/15\n",
            "303/303 [==============================] - 1s 3ms/step - loss: 0.6155 - accuracy: 0.7063\n",
            "Epoch 2/15\n",
            "303/303 [==============================] - 0s 2ms/step - loss: 0.5803 - accuracy: 0.7228\n",
            "Epoch 3/15\n",
            "303/303 [==============================] - 1s 2ms/step - loss: 0.5591 - accuracy: 0.7360\n",
            "Epoch 4/15\n",
            "303/303 [==============================] - 0s 2ms/step - loss: 0.5362 - accuracy: 0.7327\n",
            "Epoch 5/15\n",
            "303/303 [==============================] - 1s 2ms/step - loss: 0.5504 - accuracy: 0.7261\n",
            "Epoch 6/15\n",
            "303/303 [==============================] - 1s 2ms/step - loss: 0.5288 - accuracy: 0.7558\n",
            "Epoch 7/15\n",
            "303/303 [==============================] - 0s 2ms/step - loss: 0.5432 - accuracy: 0.7327\n",
            "Epoch 8/15\n",
            "303/303 [==============================] - 0s 2ms/step - loss: 0.5260 - accuracy: 0.7327\n",
            "Epoch 9/15\n",
            "303/303 [==============================] - 1s 2ms/step - loss: 0.5213 - accuracy: 0.7492\n",
            "Epoch 10/15\n",
            "303/303 [==============================] - 0s 2ms/step - loss: 0.5136 - accuracy: 0.7294\n",
            "Epoch 11/15\n",
            "303/303 [==============================] - 0s 2ms/step - loss: 0.4891 - accuracy: 0.7360\n",
            "Epoch 12/15\n",
            "303/303 [==============================] - 0s 2ms/step - loss: 0.4972 - accuracy: 0.7228\n",
            "Epoch 13/15\n",
            "303/303 [==============================] - 0s 2ms/step - loss: 0.4916 - accuracy: 0.7492\n",
            "Epoch 14/15\n",
            "303/303 [==============================] - 0s 2ms/step - loss: 0.4776 - accuracy: 0.7459\n",
            "Epoch 15/15\n",
            "303/303 [==============================] - 1s 2ms/step - loss: 0.4955 - accuracy: 0.7393\n"
          ],
          "name": "stdout"
        },
        {
          "output_type": "execute_result",
          "data": {
            "text/plain": [
              "<tensorflow.python.keras.callbacks.History at 0x7fc93cd78550>"
            ]
          },
          "metadata": {
            "tags": []
          },
          "execution_count": 126
        }
      ]
    },
    {
      "cell_type": "markdown",
      "metadata": {
        "id": "FLNAmbNNej5T",
        "colab_type": "text"
      },
      "source": [
        "---\n",
        "\n",
        "Alternative to feature columns\n",
        "\n",
        "---\n",
        "\n"
      ]
    },
    {
      "cell_type": "code",
      "metadata": {
        "id": "SbuL6oYiekcg",
        "colab_type": "code",
        "colab": {}
      },
      "source": [
        "inputs = {key: tf.keras.layers.Input(shape=(), name=key) for key in df.keys()}\n",
        "x = tf.stack(list(inputs.values()), axis=-1)\n",
        "\n",
        "x = tf.keras.layers.Dense(10, activation='relu')(x)\n",
        "output = tf.keras.layers.Dense(1)(x)\n",
        "\n",
        "model_func = tf.keras.Model(inputs=inputs, outputs=output)\n",
        "\n",
        "model_func.compile(optimizer='adam',\n",
        "                   loss=tf.keras.losses.BinaryCrossentropy(from_logits=True),\n",
        "                   metrics=['accuracy'])"
      ],
      "execution_count": 0,
      "outputs": []
    },
    {
      "cell_type": "markdown",
      "metadata": {
        "id": "YuA05Lfyffqk",
        "colab_type": "text"
      },
      "source": [
        "---\n",
        "The easiest way to preserve the column structure of a pd.DataFrame when used with tf.data is to convert the pd.DataFrame to a dict, and slice that dictionary.\n",
        "\n",
        "---\n",
        "\n"
      ]
    },
    {
      "cell_type": "code",
      "metadata": {
        "id": "MnzBroZ0fiMU",
        "colab_type": "code",
        "colab": {
          "base_uri": "https://localhost:8080/",
          "height": 1000
        },
        "outputId": "bf1626e9-5b31-4df2-f57d-dfeaab3fe4eb"
      },
      "source": [
        "dict_slices = tf.data.Dataset.from_tensor_slices((df.to_dict('list'), target.values)).batch(16)\n",
        "\n",
        "for dict_slice in dict_slices.take(1):\n",
        "  print (dict_slice)\n",
        "\n",
        "model_func.fit(dict_slices, epochs=15)"
      ],
      "execution_count": 128,
      "outputs": [
        {
          "output_type": "stream",
          "text": [
            "({'age': <tf.Tensor: shape=(16,), dtype=float32, numpy=\n",
            "array([63., 67., 67., 37., 41., 56., 62., 57., 63., 53., 57., 56., 56.,\n",
            "       44., 52., 57.], dtype=float32)>, 'sex': <tf.Tensor: shape=(16,), dtype=float32, numpy=\n",
            "array([1., 1., 1., 1., 0., 1., 0., 0., 1., 1., 1., 0., 1., 1., 1., 1.],\n",
            "      dtype=float32)>, 'cp': <tf.Tensor: shape=(16,), dtype=float32, numpy=\n",
            "array([1., 4., 4., 3., 2., 2., 4., 4., 4., 4., 4., 2., 3., 2., 3., 3.],\n",
            "      dtype=float32)>, 'trestbps': <tf.Tensor: shape=(16,), dtype=float32, numpy=\n",
            "array([145., 160., 120., 130., 130., 120., 140., 120., 130., 140., 140.,\n",
            "       140., 130., 120., 172., 150.], dtype=float32)>, 'chol': <tf.Tensor: shape=(16,), dtype=float32, numpy=\n",
            "array([233., 286., 229., 250., 204., 236., 268., 354., 254., 203., 192.,\n",
            "       294., 256., 263., 199., 168.], dtype=float32)>, 'fbs': <tf.Tensor: shape=(16,), dtype=float32, numpy=\n",
            "array([1., 0., 0., 0., 0., 0., 0., 0., 0., 1., 0., 0., 1., 0., 1., 0.],\n",
            "      dtype=float32)>, 'restecg': <tf.Tensor: shape=(16,), dtype=float32, numpy=\n",
            "array([2., 2., 2., 0., 2., 0., 2., 0., 2., 2., 0., 2., 2., 0., 0., 0.],\n",
            "      dtype=float32)>, 'thalach': <tf.Tensor: shape=(16,), dtype=float32, numpy=\n",
            "array([150., 108., 129., 187., 172., 178., 160., 163., 147., 155., 148.,\n",
            "       153., 142., 173., 162., 174.], dtype=float32)>, 'exang': <tf.Tensor: shape=(16,), dtype=float32, numpy=\n",
            "array([0., 1., 1., 0., 0., 0., 0., 1., 0., 1., 0., 0., 1., 0., 0., 0.],\n",
            "      dtype=float32)>, 'oldpeak': <tf.Tensor: shape=(16,), dtype=float32, numpy=\n",
            "array([2.3, 1.5, 2.6, 3.5, 1.4, 0.8, 3.6, 0.6, 1.4, 3.1, 0.4, 1.3, 0.6,\n",
            "       0. , 0.5, 1.6], dtype=float32)>, 'slope': <tf.Tensor: shape=(16,), dtype=float32, numpy=\n",
            "array([3., 2., 2., 3., 1., 1., 3., 1., 2., 3., 2., 2., 2., 1., 1., 1.],\n",
            "      dtype=float32)>, 'ca': <tf.Tensor: shape=(16,), dtype=float32, numpy=\n",
            "array([0., 3., 2., 0., 0., 0., 2., 0., 1., 0., 0., 0., 1., 0., 0., 0.],\n",
            "      dtype=float32)>, 'thal': <tf.Tensor: shape=(16,), dtype=float32, numpy=\n",
            "array([2., 3., 4., 3., 3., 3., 3., 3., 4., 4., 2., 3., 2., 4., 4., 3.],\n",
            "      dtype=float32)>}, <tf.Tensor: shape=(16,), dtype=float64, numpy=array([0., 1., 0., 0., 0., 0., 1., 0., 1., 0., 0., 0., 1., 0., 0., 0.])>)\n",
            "Train for 19 steps\n",
            "Epoch 1/15\n",
            "19/19 [==============================] - 0s 19ms/step - loss: 5.5415 - accuracy: 0.6106\n",
            "Epoch 2/15\n",
            "19/19 [==============================] - 0s 3ms/step - loss: 4.6194 - accuracy: 0.4620\n",
            "Epoch 3/15\n",
            "19/19 [==============================] - 0s 3ms/step - loss: 3.7670 - accuracy: 0.5017\n",
            "Epoch 4/15\n",
            "19/19 [==============================] - 0s 3ms/step - loss: 2.7570 - accuracy: 0.5281\n",
            "Epoch 5/15\n",
            "19/19 [==============================] - 0s 3ms/step - loss: 2.0192 - accuracy: 0.5479\n",
            "Epoch 6/15\n",
            "19/19 [==============================] - 0s 3ms/step - loss: 1.5822 - accuracy: 0.5743\n",
            "Epoch 7/15\n",
            "19/19 [==============================] - 0s 3ms/step - loss: 1.2502 - accuracy: 0.5941\n",
            "Epoch 8/15\n",
            "19/19 [==============================] - 0s 3ms/step - loss: 0.9738 - accuracy: 0.6238\n",
            "Epoch 9/15\n",
            "19/19 [==============================] - 0s 3ms/step - loss: 0.7959 - accuracy: 0.6766\n",
            "Epoch 10/15\n",
            "19/19 [==============================] - 0s 3ms/step - loss: 0.6890 - accuracy: 0.7096\n",
            "Epoch 11/15\n",
            "19/19 [==============================] - 0s 3ms/step - loss: 0.6242 - accuracy: 0.7129\n",
            "Epoch 12/15\n",
            "19/19 [==============================] - 0s 3ms/step - loss: 0.5826 - accuracy: 0.7360\n",
            "Epoch 13/15\n",
            "19/19 [==============================] - 0s 3ms/step - loss: 0.5529 - accuracy: 0.7624\n",
            "Epoch 14/15\n",
            "19/19 [==============================] - 0s 3ms/step - loss: 0.5306 - accuracy: 0.7690\n",
            "Epoch 15/15\n",
            "19/19 [==============================] - 0s 3ms/step - loss: 0.5133 - accuracy: 0.7855\n"
          ],
          "name": "stdout"
        },
        {
          "output_type": "execute_result",
          "data": {
            "text/plain": [
              "<tensorflow.python.keras.callbacks.History at 0x7fc93b3ca198>"
            ]
          },
          "metadata": {
            "tags": []
          },
          "execution_count": 128
        }
      ]
    },
    {
      "cell_type": "markdown",
      "metadata": {
        "id": "VhGmjopBg1r8",
        "colab_type": "text"
      },
      "source": [
        "---\n",
        "[www](https://www.tensorflow.org/tutorials/load_data/pandas_dataframe)\n",
        "\n",
        "---\n",
        "\n"
      ]
    }
  ]
}