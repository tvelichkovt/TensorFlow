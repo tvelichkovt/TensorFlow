{
  "nbformat": 4,
  "nbformat_minor": 0,
  "metadata": {
    "colab": {
      "name": "3_TensorFlow_tf.function.ipynb",
      "provenance": [],
      "collapsed_sections": [],
      "authorship_tag": "ABX9TyPrtoIYh7wnB2m3rioSYExj",
      "include_colab_link": true
    },
    "kernelspec": {
      "name": "python3",
      "display_name": "Python 3"
    }
  },
  "cells": [
    {
      "cell_type": "markdown",
      "metadata": {
        "id": "view-in-github",
        "colab_type": "text"
      },
      "source": [
        "<a href=\"https://colab.research.google.com/github/tvelichkovt/TensorFlow/blob/master/3_TensorFlow_tf_function.ipynb\" target=\"_parent\"><img src=\"https://colab.research.google.com/assets/colab-badge.svg\" alt=\"Open In Colab\"/></a>"
      ]
    },
    {
      "cell_type": "code",
      "metadata": {
        "id": "bdhyVwNmS6Ll",
        "colab_type": "code",
        "colab": {}
      },
      "source": [
        "from __future__ import absolute_import, division, print_function, unicode_literals\n",
        "\n",
        "try:\n",
        "    %tensorflow_version 2.x\n",
        "except Exception:\n",
        "  pass\n",
        "\n",
        "import tensorflow as tf\n",
        "from tensorflow import keras\n",
        "import matplotlib.pyplot as plt\n",
        "import numpy as np\n",
        "\n",
        "print(tf.__version__, keras.__version__)"
      ],
      "execution_count": 0,
      "outputs": []
    },
    {
      "cell_type": "code",
      "metadata": {
        "id": "1vX9irvhVR3a",
        "colab_type": "code",
        "colab": {
          "base_uri": "https://localhost:8080/",
          "height": 35
        },
        "outputId": "0d205ae2-06ca-46fb-9aab-1fc0615de96b"
      },
      "source": [
        "# tf.Variable\n",
        "\n",
        "v = tf.Variable(1213)\n",
        "print(v)"
      ],
      "execution_count": 29,
      "outputs": [
        {
          "output_type": "stream",
          "text": [
            "<tf.Variable 'Variable:0' shape=() dtype=int32, numpy=1213>\n"
          ],
          "name": "stdout"
        }
      ]
    },
    {
      "cell_type": "code",
      "metadata": {
        "id": "f-AdjcKnVxYa",
        "colab_type": "code",
        "colab": {
          "base_uri": "https://localhost:8080/",
          "height": 35
        },
        "outputId": "b3413166-bb8c-4c48-e3ab-050b788e54d8"
      },
      "source": [
        "# tf.range\n",
        "\n",
        "tf.range(1) #[0]\n",
        "tf.range(2) #[0, 1]\n",
        "tf.range(3) #[0, 1, 2]\n",
        "tf.range(4) #[0, 1, 2, 3]\n",
        "\n",
        "start = 3\n",
        "limit = 18\n",
        "delta = 3\n",
        "tf.range(start, limit, delta)  # [3, 6, 9, 12, 15]\n",
        "\n",
        "start = 3\n",
        "limit = 1\n",
        "delta = -0.5\n",
        "tf.range(start, limit, delta)  # [3, 2.5, 2, 1.5]\n",
        "\n",
        "limit = 5\n",
        "tf.range(limit)  # [0, 1, 2, 3, 4]"
      ],
      "execution_count": 40,
      "outputs": [
        {
          "output_type": "execute_result",
          "data": {
            "text/plain": [
              "<tf.Tensor: shape=(5,), dtype=int32, numpy=array([0, 1, 2, 3, 4], dtype=int32)>"
            ]
          },
          "metadata": {
            "tags": []
          },
          "execution_count": 40
        }
      ]
    },
    {
      "cell_type": "code",
      "metadata": {
        "id": "fCgO5eAVWe2z",
        "colab_type": "code",
        "colab": {
          "base_uri": "https://localhost:8080/",
          "height": 35
        },
        "outputId": "c211efad-2381-45ac-fece-830fe7d7d8bb"
      },
      "source": [
        "# tf.range\n",
        "\n",
        "start = 5\n",
        "limit = 16\n",
        "delta = 3\n",
        "tf.range(start, limit, delta)"
      ],
      "execution_count": 53,
      "outputs": [
        {
          "output_type": "execute_result",
          "data": {
            "text/plain": [
              "<tf.Tensor: shape=(4,), dtype=int32, numpy=array([ 5,  8, 11, 14], dtype=int32)>"
            ]
          },
          "metadata": {
            "tags": []
          },
          "execution_count": 53
        }
      ]
    },
    {
      "cell_type": "code",
      "metadata": {
        "id": "3FSGZ5spTOL8",
        "colab_type": "code",
        "colab": {}
      },
      "source": [
        "# add\n",
        "\n",
        "@tf.function \n",
        "def f(x, y): \n",
        "  return x + y \n",
        "\n",
        "f(1, 2)"
      ],
      "execution_count": 0,
      "outputs": []
    },
    {
      "cell_type": "code",
      "metadata": {
        "id": "rfTXPoUTTb1W",
        "colab_type": "code",
        "colab": {}
      },
      "source": [
        "# multiply\n",
        "\n",
        "@tf.function \n",
        "def f(x, y): \n",
        "  return x ** 2 + y \n",
        "x = tf.constant([2]) \n",
        "y = tf.constant([3]) \n",
        "f(x, y)"
      ],
      "execution_count": 0,
      "outputs": []
    },
    {
      "cell_type": "code",
      "metadata": {
        "id": "RvVgeft3TVn1",
        "colab_type": "code",
        "colab": {
          "base_uri": "https://localhost:8080/",
          "height": 35
        },
        "outputId": "3a5dd461-ccd5-4993-faa6-e4b985cc59ce"
      },
      "source": [
        "# multiply arrays\n",
        "\n",
        "\n",
        "@tf.function \n",
        "def f(x, y): \n",
        "  return x ** 2 + y \n",
        "x = tf.constant([2, 3]) \n",
        "y = tf.constant([3, -2]) \n",
        "f(x, y) \n"
      ],
      "execution_count": 11,
      "outputs": [
        {
          "output_type": "execute_result",
          "data": {
            "text/plain": [
              "<tf.Tensor: shape=(2,), dtype=int32, numpy=array([7, 7], dtype=int32)>"
            ]
          },
          "metadata": {
            "tags": []
          },
          "execution_count": 11
        }
      ]
    },
    {
      "cell_type": "code",
      "metadata": {
        "id": "smBi6dHTTscV",
        "colab_type": "code",
        "colab": {}
      },
      "source": [
        "# reduce\n",
        "\n",
        "@tf.function \n",
        "def f(x): \n",
        "  if tf.reduce_sum(x) > 0: \n",
        "    return x * x \n",
        "  else: \n",
        "    return -x // 2 \n",
        "f(tf.constant(-13))"
      ],
      "execution_count": 0,
      "outputs": []
    },
    {
      "cell_type": "code",
      "metadata": {
        "id": "a2YTHxOvUf3k",
        "colab_type": "code",
        "colab": {}
      },
      "source": [
        "# tf.Tensor and tf.Variable objects:\n",
        "\n",
        "@tf.function \n",
        "def f(): \n",
        "  return x ** 2 + y \n",
        "x = tf.constant([-2, -3]) \n",
        "y = tf.Variable([3, -2]) \n",
        "f() \n"
      ],
      "execution_count": 0,
      "outputs": []
    },
    {
      "cell_type": "code",
      "metadata": {
        "id": "YTlfbwtVUsNv",
        "colab_type": "code",
        "colab": {
          "base_uri": "https://localhost:8080/",
          "height": 35
        },
        "outputId": "1ecca5c1-e2a1-4e8e-d878-e106c07cf308"
      },
      "source": [
        " # tf.print, tf.Variable and others:\n",
        "\n",
        "v = tf.Variable(1) \n",
        "@tf.function \n",
        "def f(x): \n",
        "  for i in tf.range(x): \n",
        "    v.assign_add(i) \n",
        "f(4)\n",
        "v\n"
      ],
      "execution_count": 71,
      "outputs": [
        {
          "output_type": "execute_result",
          "data": {
            "text/plain": [
              "<tf.Variable 'Variable:0' shape=() dtype=int32, numpy=7>"
            ]
          },
          "metadata": {
            "tags": []
          },
          "execution_count": 71
        }
      ]
    },
    {
      "cell_type": "code",
      "metadata": {
        "id": "UntYwmHQYsDs",
        "colab_type": "code",
        "colab": {
          "base_uri": "https://localhost:8080/",
          "height": 35
        },
        "outputId": "3359e7ca-dac7-4d7a-905d-3953c605224c"
      },
      "source": [
        "#tf.TensorArray:\n",
        "\n",
        "@tf.function \n",
        "def f(x): \n",
        "  ta = tf.TensorArray(dtype=tf.int32, size=0, dynamic_size=True) \n",
        "  for i in range(len(x)): \n",
        "    ta = ta.write(i, x[i] + 1) \n",
        "  return ta.stack() \n",
        "f(tf.constant([1, 2, 3])) \n"
      ],
      "execution_count": 72,
      "outputs": [
        {
          "output_type": "execute_result",
          "data": {
            "text/plain": [
              "<tf.Tensor: shape=(3,), dtype=int32, numpy=array([2, 3, 4], dtype=int32)>"
            ]
          },
          "metadata": {
            "tags": []
          },
          "execution_count": 72
        }
      ]
    },
    {
      "cell_type": "code",
      "metadata": {
        "id": "fPPi147aZT6M",
        "colab_type": "code",
        "colab": {
          "base_uri": "https://localhost:8080/",
          "height": 35
        },
        "outputId": "0259ccdf-80a3-4478-8fa1-8b22e77aee8e"
      },
      "source": [
        "# Passing python scalars or lists as arguments to tf.function\n",
        "\n",
        "@tf.function \n",
        "def f(x): \n",
        "  return tf.abs(x) \n",
        "f1 = f.get_concrete_function(1) \n",
        "f2 = f.get_concrete_function(2)  # Slow - builds new graph \n",
        "f1 is f2 # False\n",
        "\n",
        "f1 = f.get_concrete_function(tf.constant(1)) \n",
        "f2 = f.get_concrete_function(tf.constant(2))  # Fast - reuses f1 \n",
        "f1 is f2 # True \n"
      ],
      "execution_count": 76,
      "outputs": [
        {
          "output_type": "execute_result",
          "data": {
            "text/plain": [
              "True"
            ]
          },
          "metadata": {
            "tags": []
          },
          "execution_count": 76
        }
      ]
    }
  ]
}