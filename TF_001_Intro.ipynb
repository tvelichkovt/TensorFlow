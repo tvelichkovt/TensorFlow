{
  "nbformat": 4,
  "nbformat_minor": 0,
  "metadata": {
    "colab": {
      "name": "TF_001_Intro",
      "provenance": [],
      "collapsed_sections": [],
      "authorship_tag": "ABX9TyP0Ivbf4C9Pp8kRZlq37v4h",
      "include_colab_link": true
    },
    "kernelspec": {
      "name": "python3",
      "display_name": "Python 3"
    }
  },
  "cells": [
    {
      "cell_type": "markdown",
      "metadata": {
        "id": "view-in-github",
        "colab_type": "text"
      },
      "source": [
        "<a href=\"https://colab.research.google.com/github/tvelichkovt/TensorFlow/blob/master/TF_001_Intro.ipynb\" target=\"_parent\"><img src=\"https://colab.research.google.com/assets/colab-badge.svg\" alt=\"Open In Colab\"/></a>"
      ]
    },
    {
      "cell_type": "markdown",
      "metadata": {
        "id": "WyM44NovSa4B",
        "colab_type": "text"
      },
      "source": [
        "# tf -> \"import\""
      ]
    },
    {
      "cell_type": "code",
      "metadata": {
        "id": "nkb57302SbXU",
        "colab_type": "code",
        "colab": {
          "base_uri": "https://localhost:8080/",
          "height": 85
        },
        "outputId": "5ecf639d-8c08-4065-8824-f64a36c05af5"
      },
      "source": [
        "from __future__ import absolute_import, division, print_function, unicode_literals\n",
        "\n",
        "try:\n",
        "    %tensorflow_version 2.x\n",
        "except Exception:\n",
        "  pass\n",
        "\n",
        "import tensorflow as tf\n",
        "from tensorflow import keras\n",
        "import matplotlib.pyplot as plt\n",
        "import numpy as np\n",
        "import pandas as pd\n",
        "\n",
        "print('TensorFlow ver is:', tf.__version__, '\\nKeras ver is:', keras.__version__, '\\nPandas ver is:', pd.__version__, '\\nNumpy ver is:', np.__version__)"
      ],
      "execution_count": 22,
      "outputs": [
        {
          "output_type": "stream",
          "text": [
            "TensorFlow ver is: 2.2.0 \n",
            "Keras ver is: 2.3.0-tf \n",
            "Pandas ver is: 1.0.5 \n",
            "Numpy ver is: 1.18.5\n"
          ],
          "name": "stdout"
        }
      ]
    },
    {
      "cell_type": "markdown",
      "metadata": {
        "id": "0-Fyuh4bScfW",
        "colab_type": "text"
      },
      "source": [
        "# tf -> \"tensors\""
      ]
    },
    {
      "cell_type": "markdown",
      "metadata": {
        "id": "oLMZn4AAS0J8",
        "colab_type": "text"
      },
      "source": [
        "![alt text](http://media5.datahacker.rs/2019/11/9-1024x256.jpg)"
      ]
    },
    {
      "cell_type": "markdown",
      "metadata": {
        "id": "1WljJfZfTo1R",
        "colab_type": "text"
      },
      "source": [
        "# tf -> \"Hello world!\""
      ]
    },
    {
      "cell_type": "code",
      "metadata": {
        "id": "Wb-kLyeHS_VV",
        "colab_type": "code",
        "colab": {
          "base_uri": "https://localhost:8080/",
          "height": 34
        },
        "outputId": "d77b2e7f-7ae1-4a18-8bca-b368d90bb90c"
      },
      "source": [
        "hello = tf.constant('Hello world!')\n",
        "tf.print(hello)\n"
      ],
      "execution_count": 23,
      "outputs": [
        {
          "output_type": "stream",
          "text": [
            "Hello world!\n"
          ],
          "name": "stdout"
        }
      ]
    },
    {
      "cell_type": "markdown",
      "metadata": {
        "id": "WhtDkE1kUnTR",
        "colab_type": "text"
      },
      "source": [
        "# tf -> \"constants\""
      ]
    },
    {
      "cell_type": "code",
      "metadata": {
        "id": "f2XHmgk_UuJF",
        "colab_type": "code",
        "colab": {
          "base_uri": "https://localhost:8080/",
          "height": 68
        },
        "outputId": "7eb4e7ec-a045-4bbb-d84b-66cadbcbaea4"
      },
      "source": [
        "c1 = tf.constant(5, name = 'x')\n",
        "c2 = tf.constant(6.0, tf.float32, name = 'y')\n",
        "c3 = tf.constant(7.0, tf.float32, name = 'z')\n",
        "print('c1: ', c1)\n",
        "print('c2: ', c2)\n",
        "print('c3: ', c3)"
      ],
      "execution_count": 24,
      "outputs": [
        {
          "output_type": "stream",
          "text": [
            "c1:  tf.Tensor(5, shape=(), dtype=int32)\n",
            "c2:  tf.Tensor(6.0, shape=(), dtype=float32)\n",
            "c3:  tf.Tensor(7.0, shape=(), dtype=float32)\n"
          ],
          "name": "stdout"
        }
      ]
    },
    {
      "cell_type": "markdown",
      "metadata": {
        "id": "JG1oilsiUzBq",
        "colab_type": "text"
      },
      "source": [
        "# tf -> \"operations\""
      ]
    },
    {
      "cell_type": "code",
      "metadata": {
        "id": "OaW6Op6QU1ZT",
        "colab_type": "code",
        "colab": {
          "base_uri": "https://localhost:8080/",
          "height": 51
        },
        "outputId": "fa17036b-e022-4f7e-fe4f-d152b010d0f1"
      },
      "source": [
        "op1 = tf.multiply(c3,c2)\n",
        "op2 = tf.add(c2,c3)\n",
        "print('op1: ', op1)\n",
        "print('op2: ', op2)"
      ],
      "execution_count": 25,
      "outputs": [
        {
          "output_type": "stream",
          "text": [
            "op1:  tf.Tensor(42.0, shape=(), dtype=float32)\n",
            "op2:  tf.Tensor(13.0, shape=(), dtype=float32)\n"
          ],
          "name": "stdout"
        }
      ]
    },
    {
      "cell_type": "markdown",
      "metadata": {
        "id": "qNvD5FSmU6Ro",
        "colab_type": "text"
      },
      "source": [
        "# tf -> \"tensors from python objects\""
      ]
    },
    {
      "cell_type": "code",
      "metadata": {
        "id": "NoX0GytJU-uO",
        "colab_type": "code",
        "colab": {
          "base_uri": "https://localhost:8080/",
          "height": 34
        },
        "outputId": "02fd47bf-df64-4163-bacf-2a6c707be94f"
      },
      "source": [
        "tensor = tf.convert_to_tensor(5.0, tf.float32)\n",
        "print('tensor: ', tensor)"
      ],
      "execution_count": 26,
      "outputs": [
        {
          "output_type": "stream",
          "text": [
            "tensor:  tf.Tensor(5.0, shape=(), dtype=float32)\n"
          ],
          "name": "stdout"
        }
      ]
    },
    {
      "cell_type": "code",
      "metadata": {
        "id": "kvPR7Zr7VCWn",
        "colab_type": "code",
        "colab": {
          "base_uri": "https://localhost:8080/",
          "height": 34
        },
        "outputId": "22edfc8b-9219-4090-b4bd-5c50c7e70733"
      },
      "source": [
        "a3dim = np.array([[1, 2]])\n",
        "b3dim = np.array([[1], [2]])\n",
        "tf_a3dim = tf.convert_to_tensor(a3dim, dtype=tf.float64)\n",
        "tf_b3dim = tf.convert_to_tensor(b3dim, dtype=tf.float64)\n",
        "result = tf.matmul(tf_a3dim, tf_b3dim)\n",
        "\n",
        "print(result)"
      ],
      "execution_count": 27,
      "outputs": [
        {
          "output_type": "stream",
          "text": [
            "tf.Tensor([[5.]], shape=(1, 1), dtype=float64)\n"
          ],
          "name": "stdout"
        }
      ]
    },
    {
      "cell_type": "markdown",
      "metadata": {
        "id": "TMK3foIUVQDy",
        "colab_type": "text"
      },
      "source": [
        "# tf -> \"variables\""
      ]
    },
    {
      "cell_type": "code",
      "metadata": {
        "id": "M0QCuYbwVQez",
        "colab_type": "code",
        "colab": {
          "base_uri": "https://localhost:8080/",
          "height": 282
        },
        "outputId": "1a23ed07-586c-46c1-8b66-e5c2a15f2165"
      },
      "source": [
        "# We define the model parameters w and b as variables \n",
        "# with initial values of [.3] and [-0.3], respectively:\n",
        "w = tf.Variable([.3], tf.float32)\n",
        "b = tf.Variable([-.3], tf.float32)\n",
        "\n",
        "x = np.arange(1,5)\n",
        "y = w * x + b\n",
        "\n",
        "print(y)\n",
        "\n",
        "plt.plot(x,y)\n",
        "plt.show()"
      ],
      "execution_count": 28,
      "outputs": [
        {
          "output_type": "stream",
          "text": [
            "tf.Tensor([0.         0.3        0.6        0.90000004], shape=(4,), dtype=float32)\n"
          ],
          "name": "stdout"
        },
        {
          "output_type": "display_data",
          "data": {
            "image/png": "[encoded data removed]",
            "text/plain": [
              "<Figure size 432x288 with 1 Axes>"
            ]
          },
          "metadata": {
            "tags": [],
            "needs_background": "light"
          }
        }
      ]
    }
  ]
}