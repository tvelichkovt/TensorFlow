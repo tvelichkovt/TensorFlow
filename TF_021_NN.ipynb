{
  "nbformat": 4,
  "nbformat_minor": 0,
  "metadata": {
    "colab": {
      "name": "TF_021_NN",
      "provenance": [],
      "collapsed_sections": [],
      "mount_file_id": "1f1dz_Td1mJO-Cldt4IcxwRhjHHSp72V3",
      "authorship_tag": "ABX9TyMQjNkeMKTQUYZBWzEV4BG4",
      "include_colab_link": true
    },
    "kernelspec": {
      "name": "python3",
      "display_name": "Python 3"
    }
  },
  "cells": [
    {
      "cell_type": "markdown",
      "metadata": {
        "id": "view-in-github",
        "colab_type": "text"
      },
      "source": [
        "<a href=\"https://colab.research.google.com/github/tvelichkovt/TensorFlow/blob/master/TF_021_NN.ipynb\" target=\"_parent\"><img src=\"https://colab.research.google.com/assets/colab-badge.svg\" alt=\"Open In Colab\"/></a>"
      ]
    },
    {
      "cell_type": "markdown",
      "metadata": {
        "id": "sOL_auT2Z4_j",
        "colab_type": "text"
      },
      "source": [
        "# tf \"import\""
      ]
    },
    {
      "cell_type": "code",
      "metadata": {
        "id": "nzLiJEvZEeCU",
        "colab_type": "code",
        "colab": {
          "base_uri": "https://localhost:8080/",
          "height": 34
        },
        "outputId": "e9cb3d52-8649-4826-e5a0-7973d01438d7"
      },
      "source": [
        "from __future__ import absolute_import, division, print_function, unicode_literals\n",
        "\n",
        "try:\n",
        "    %tensorflow_version 2.x\n",
        "except Exception:\n",
        "  pass\n",
        "\n",
        "import tensorflow as tf\n",
        "from tensorflow import keras\n",
        "import matplotlib.pyplot as plt\n",
        "import numpy as np\n",
        "import pandas as pd\n",
        "\n",
        "print('TensorFlow ver is:', tf.__version__, '\\nKeras ver is:', keras.__version__, '\\nPandas ver is:', pd.__version__, '\\nNumpy ver is:', np.__version__)"
      ],
      "execution_count": null,
      "outputs": [
        {
          "output_type": "stream",
          "text": [
            "2.1.0\n"
          ],
          "name": "stdout"
        }
      ]
    },
    {
      "cell_type": "code",
      "metadata": {
        "id": "ns2dwmcidLge",
        "colab_type": "code",
        "colab": {
          "base_uri": "https://localhost:8080/",
          "height": 279
        },
        "outputId": "773e0b3e-1b2f-429b-bf6d-14f0a5270260"
      },
      "source": [
        "#https://adventuresinmachinelearning.com/neural-networks-tutorial/\n",
        "\n",
        "import matplotlib.pylab as plt\n",
        "import numpy as np\n",
        "x = np.arange(-8, 8, 0.1)\n",
        "f = 1 / (1 + np.exp(-x))\n",
        "plt.plot(x, f)\n",
        "plt.xlabel('x')\n",
        "plt.ylabel('f(x)')\n",
        "plt.show()"
      ],
      "execution_count": null,
      "outputs": [
        {
          "output_type": "display_data",
          "data": {
            "image/png": "[encoded data removed]",
            "text/plain": [
              "<Figure size 432x288 with 1 Axes>"
            ]
          },
          "metadata": {
            "tags": []
          }
        }
      ]
    },
    {
      "cell_type": "code",
      "metadata": {
        "id": "-Wvj5HqFdWNX",
        "colab_type": "code",
        "colab": {
          "base_uri": "https://localhost:8080/",
          "height": 279
        },
        "outputId": "905a5923-1e38-41da-f4e1-a45622c46ad5"
      },
      "source": [
        "w1 = 0.5\n",
        "w2 = 1.0\n",
        "w3 = 2.0\n",
        "l1 = 'w = 0.5'\n",
        "l2 = 'w = 1.0'\n",
        "l3 = 'w = 2.0'\n",
        "for w, l in [(w1, l1), (w2, l2), (w3, l3)]:\n",
        "    f = 1 / (1 + np.exp(-x*w))\n",
        "    plt.plot(x, f, label=l)\n",
        "plt.xlabel('x')\n",
        "plt.ylabel('h_w(x)')\n",
        "plt.legend(loc=2)\n",
        "plt.show()"
      ],
      "execution_count": null,
      "outputs": [
        {
          "output_type": "display_data",
          "data": {
            "image/png": "[encoded data removed]",
            "text/plain": [
              "<Figure size 432x288 with 1 Axes>"
            ]
          },
          "metadata": {
            "tags": []
          }
        }
      ]
    },
    {
      "cell_type": "code",
      "metadata": {
        "id": "dqaDBlFmdXtw",
        "colab_type": "code",
        "colab": {
          "base_uri": "https://localhost:8080/",
          "height": 279
        },
        "outputId": "400d0f6a-508f-48c8-dd34-d107ef88a71d"
      },
      "source": [
        "w = 5.0\n",
        "b1 = -8.0\n",
        "b2 = 0.0\n",
        "b3 = 8.0\n",
        "l1 = 'b = -8.0'\n",
        "l2 = 'b = 0.0'\n",
        "l3 = 'b = 8.0'\n",
        "for b, l in [(b1, l1), (b2, l2), (b3, l3)]:\n",
        "    f = 1 / (1 + np.exp(-(x*w+b)))\n",
        "    plt.plot(x, f, label=l)\n",
        "plt.xlabel('x')\n",
        "plt.ylabel('h_wb(x)')\n",
        "plt.legend(loc=2)\n",
        "plt.show()"
      ],
      "execution_count": null,
      "outputs": [
        {
          "output_type": "display_data",
          "data": {
            "image/png": "[encoded data removed]",
            "text/plain": [
              "<Figure size 432x288 with 1 Axes>"
            ]
          },
          "metadata": {
            "tags": []
          }
        }
      ]
    },
    {
      "cell_type": "code",
      "metadata": {
        "id": "pMrZC8djdeVf",
        "colab_type": "code",
        "colab": {}
      },
      "source": [
        "w1 = np.array([[0.2, 0.2, 0.2], [0.4, 0.4, 0.4], [0.6, 0.6, 0.6]])\n",
        "w2 = np.zeros((1, 3))\n",
        "w2[0,:] = np.array([0.5, 0.5, 0.5])"
      ],
      "execution_count": null,
      "outputs": []
    },
    {
      "cell_type": "code",
      "metadata": {
        "id": "JVUfJJ3GdfFx",
        "colab_type": "code",
        "colab": {}
      },
      "source": [
        "b1 = np.array([0.8, 0.8, 0.8])\n",
        "b2 = np.array([0.2])\n",
        "\n",
        "def f(x):\n",
        "    return 1 / (1 + np.exp(-x))"
      ],
      "execution_count": null,
      "outputs": []
    },
    {
      "cell_type": "code",
      "metadata": {
        "id": "yYhWGGerdkZw",
        "colab_type": "code",
        "colab": {}
      },
      "source": [
        "def simple_looped_nn_calc(n_layers, x, w, b):\n",
        "    for l in range(n_layers-1):\n",
        "        #Setup the input array which the weights will be multiplied by for each layer\n",
        "        #If it's the first layer, the input array will be the x input vector\n",
        "        #If it's not the first layer, the input to the next layer will be the \n",
        "        #output of the previous layer\n",
        "        if l == 0:\n",
        "            node_in = x\n",
        "        else:\n",
        "            node_in = h\n",
        "        #Setup the output array for the nodes in layer l + 1\n",
        "        h = np.zeros((w[l].shape[0],))\n",
        "        #loop through the rows of the weight array\n",
        "        for i in range(w[l].shape[0]):\n",
        "            #setup the sum inside the activation function\n",
        "            f_sum = 0\n",
        "            #loop through the columns of the weight array\n",
        "            for j in range(w[l].shape[1]):\n",
        "                f_sum += w[l][i][j] * node_in[j]\n",
        "            #add the bias\n",
        "            f_sum += b[l][i]\n",
        "            #finally use the activation function to calculate the\n",
        "            #i-th output i.e. h1, h2, h3\n",
        "            h[i] = f(f_sum)\n",
        "    return h"
      ],
      "execution_count": null,
      "outputs": []
    },
    {
      "cell_type": "code",
      "metadata": {
        "id": "Bk23p5Cudngv",
        "colab_type": "code",
        "colab": {}
      },
      "source": [
        "w = [w1, w2]\n",
        "b = [b1, b2]\n",
        "#a dummy x input vector\n",
        "x = [1.5, 2.0, 3.0]"
      ],
      "execution_count": null,
      "outputs": []
    },
    {
      "cell_type": "code",
      "metadata": {
        "id": "Bp5vawH6dpJb",
        "colab_type": "code",
        "colab": {
          "base_uri": "https://localhost:8080/",
          "height": 34
        },
        "outputId": "812998cd-1dd6-4d8f-bb14-4a0c39df5bb5"
      },
      "source": [
        "simple_looped_nn_calc(3, x, w, b)\n"
      ],
      "execution_count": null,
      "outputs": [
        {
          "output_type": "execute_result",
          "data": {
            "text/plain": [
              "array([0.83545566])"
            ]
          },
          "metadata": {
            "tags": []
          },
          "execution_count": 27
        }
      ]
    },
    {
      "cell_type": "code",
      "metadata": {
        "id": "VMpJh7u7dsn3",
        "colab_type": "code",
        "colab": {
          "base_uri": "https://localhost:8080/",
          "height": 34
        },
        "outputId": "83fbfdc9-be27-4bb3-d3c2-ea443b9cb44b"
      },
      "source": [
        "%timeit simple_looped_nn_calc(3, x, w, b)\n"
      ],
      "execution_count": null,
      "outputs": [
        {
          "output_type": "stream",
          "text": [
            "10000 loops, best of 3: 22.6 µs per loop\n"
          ],
          "name": "stdout"
        }
      ]
    },
    {
      "cell_type": "code",
      "metadata": {
        "id": "K2j8r8eYdttK",
        "colab_type": "code",
        "colab": {}
      },
      "source": [
        "def matrix_feed_forward_calc(n_layers, x, w, b):\n",
        "    for l in range(n_layers-1):\n",
        "        if l == 0:\n",
        "            node_in = x\n",
        "        else:\n",
        "            node_in = h\n",
        "        z = w[l].dot(node_in) + b[l]\n",
        "        h = f(z)\n",
        "    return h"
      ],
      "execution_count": null,
      "outputs": []
    },
    {
      "cell_type": "code",
      "metadata": {
        "id": "cFUCg1aKdwyK",
        "colab_type": "code",
        "colab": {
          "base_uri": "https://localhost:8080/",
          "height": 34
        },
        "outputId": "451c8d06-708b-4708-b52c-2ca30e971755"
      },
      "source": [
        "#Gradient descent and optimisation\n",
        "\n",
        "x_old = 0 # The value does not matter as long as abs(x_new - x_old) > precision\n",
        "x_new = 6 # The algorithm starts at x=6\n",
        "gamma = 0.01 # step size\n",
        "precision = 0.00001\n",
        "\n",
        "def df(x):\n",
        "    y = 4 * x**3 - 9 * x**2\n",
        "    return y\n",
        "\n",
        "while abs(x_new - x_old) > precision:\n",
        "    x_old = x_new\n",
        "    x_new += -gamma * df(x_old)\n",
        "\n",
        "print(\"The local minimum occurs at %f\" % x_new)"
      ],
      "execution_count": null,
      "outputs": [
        {
          "output_type": "stream",
          "text": [
            "The local minimum occurs at 2.249965\n"
          ],
          "name": "stdout"
        }
      ]
    },
    {
      "cell_type": "code",
      "metadata": {
        "id": "X7H_plPXd2yy",
        "colab_type": "code",
        "colab": {
          "base_uri": "https://localhost:8080/",
          "height": 309
        },
        "outputId": "f875527f-6685-410b-d8a3-68abb9d5fbd0"
      },
      "source": [
        "#Implementing the neural network in Python\n",
        "\n",
        "from sklearn.datasets import load_digits\n",
        "digits = load_digits()\n",
        "print(digits.data.shape)\n",
        "import matplotlib.pyplot as plt \n",
        "plt.gray() \n",
        "plt.matshow(digits.images[1]) \n",
        "plt.show()"
      ],
      "execution_count": null,
      "outputs": [
        {
          "output_type": "stream",
          "text": [
            "(1797, 64)\n"
          ],
          "name": "stdout"
        },
        {
          "output_type": "display_data",
          "data": {
            "text/plain": [
              "<Figure size 432x288 with 0 Axes>"
            ]
          },
          "metadata": {
            "tags": []
          }
        },
        {
          "output_type": "display_data",
          "data": {
            "image/png": "[encoded data removed]",
            "text/plain": [
              "<Figure size 288x288 with 1 Axes>"
            ]
          },
          "metadata": {
            "tags": []
          }
        }
      ]
    },
    {
      "cell_type": "code",
      "metadata": {
        "id": "l1l3dNKld9zB",
        "colab_type": "code",
        "colab": {
          "base_uri": "https://localhost:8080/",
          "height": 129
        },
        "outputId": "ad55f7bb-867c-4c74-8792-4085c2e85d7a"
      },
      "source": [
        "digits.data[0,:]\n",
        "Out[2]:\n",
        "array([  0.,   0.,   5.,  13.,   9.,   1.,   0.,   0.,   0.,   0.,  13.,\n",
        "        15.,  10.,  15.,   5.,   0.,   0.,   3.,  15.,   2.,   0.,  11.,\n",
        "         8.,   0.,   0.,   4.,  12.,   0.,   0.,   8.,   8.,   0.,   0.,\n",
        "         5.,   8.,   0.,   0.,   9.,   8.,   0.,   0.,   4.,  11.,   0.,\n",
        "         1.,  12.,   7.,   0.,   0.,   2.,  14.,   5.,  10.,  12.,   0.,\n",
        "         0.,   0.,   0.,   6.,  13.,  10.,   0.,   0.,   0.])"
      ],
      "execution_count": null,
      "outputs": [
        {
          "output_type": "error",
          "ename": "SyntaxError",
          "evalue": "ignored",
          "traceback": [
            "\u001b[0;36m  File \u001b[0;32m\"<ipython-input-37-cc1bf2a3522d>\"\u001b[0;36m, line \u001b[0;32m2\u001b[0m\n\u001b[0;31m    Out[2]:\u001b[0m\n\u001b[0m           ^\u001b[0m\n\u001b[0;31mSyntaxError\u001b[0m\u001b[0;31m:\u001b[0m invalid syntax\n"
          ]
        }
      ]
    },
    {
      "cell_type": "code",
      "metadata": {
        "id": "Q-1R6rY2eVJf",
        "colab_type": "code",
        "colab": {
          "base_uri": "https://localhost:8080/",
          "height": 129
        },
        "outputId": "3f3a945d-7241-4445-87b8-59a46ec1e5c0"
      },
      "source": [
        "from sklearn.preprocessing import StandardScaler\n",
        "X_scale = StandardScaler()\n",
        "X = X_scale.fit_transform(digits.data)\n",
        "X[0,:]\n",
        "Out[3]:\n",
        "array([ 0.        , -0.33501649, -0.04308102,  0.27407152, -0.66447751,\n",
        "       -0.84412939, -0.40972392, -0.12502292, -0.05907756, -0.62400926,\n",
        "        0.4829745 ,  0.75962245, -0.05842586,  1.12772113,  0.87958306,\n",
        "       -0.13043338, -0.04462507,  0.11144272,  0.89588044, -0.86066632,\n",
        "       -1.14964846,  0.51547187,  1.90596347, -0.11422184, -0.03337973,\n",
        "        0.48648928,  0.46988512, -1.49990136, -1.61406277,  0.07639777,\n",
        "        1.54181413, -0.04723238,  0.        ,  0.76465553,  0.05263019,\n",
        "       -1.44763006, -1.73666443,  0.04361588,  1.43955804,  0.        ,\n",
        "       -0.06134367,  0.8105536 ,  0.63011714, -1.12245711, -1.06623158,\n",
        "        0.66096475,  0.81845076, -0.08874162, -0.03543326,  0.74211893,\n",
        "        1.15065212, -0.86867056,  0.11012973,  0.53761116, -0.75743581,\n",
        "       -0.20978513, -0.02359646, -0.29908135,  0.08671869,  0.20829258,\n",
        "       -0.36677122, -1.14664746, -0.5056698 , -0.19600752])"
      ],
      "execution_count": null,
      "outputs": [
        {
          "output_type": "error",
          "ename": "SyntaxError",
          "evalue": "ignored",
          "traceback": [
            "\u001b[0;36m  File \u001b[0;32m\"<ipython-input-38-a45d1c4bd916>\"\u001b[0;36m, line \u001b[0;32m5\u001b[0m\n\u001b[0;31m    Out[3]:\u001b[0m\n\u001b[0m           ^\u001b[0m\n\u001b[0;31mSyntaxError\u001b[0m\u001b[0;31m:\u001b[0m invalid syntax\n"
          ]
        }
      ]
    },
    {
      "cell_type": "code",
      "metadata": {
        "id": "1J1xBWj4eBXn",
        "colab_type": "code",
        "colab": {}
      },
      "source": [
        ""
      ],
      "execution_count": null,
      "outputs": []
    }
  ]
}