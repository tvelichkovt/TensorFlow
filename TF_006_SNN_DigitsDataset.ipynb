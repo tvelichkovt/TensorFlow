{
  "nbformat": 4,
  "nbformat_minor": 0,
  "metadata": {
    "colab": {
      "name": "TF_006_SNN_DigitsDataset",
      "provenance": [],
      "authorship_tag": "ABX9TyP4iXH95ZtwaJo8ADBFcvXZ",
      "include_colab_link": true
    },
    "kernelspec": {
      "name": "python3",
      "display_name": "Python 3"
    }
  },
  "cells": [
    {
      "cell_type": "markdown",
      "metadata": {
        "id": "view-in-github",
        "colab_type": "text"
      },
      "source": [
        "<a href=\"https://colab.research.google.com/github/tvelichkovt/TensorFlow/blob/master/TF_006_SNN_DigitsDataset.ipynb\" target=\"_parent\"><img src=\"https://colab.research.google.com/assets/colab-badge.svg\" alt=\"Open In Colab\"/></a>"
      ]
    },
    {
      "cell_type": "markdown",
      "metadata": {
        "id": "qvCNekCb9ROk",
        "colab_type": "text"
      },
      "source": [
        "# tf -> \"import\""
      ]
    },
    {
      "cell_type": "code",
      "metadata": {
        "id": "ugTndXb49RbM",
        "colab_type": "code",
        "colab": {
          "base_uri": "https://localhost:8080/",
          "height": 82
        },
        "outputId": "ab7d4272-370a-43fe-a253-b502321a3db5"
      },
      "source": [
        "from __future__ import absolute_import, division, print_function, unicode_literals\n",
        "\n",
        "try:\n",
        "    %tensorflow_version 2.x\n",
        "except Exception:\n",
        "  pass\n",
        "\n",
        "import tensorflow as tf\n",
        "from tensorflow import keras\n",
        "import matplotlib.pyplot as plt\n",
        "import numpy as np\n",
        "import pandas as pd\n",
        "\n",
        "print('TensorFlow ver is:', tf.__version__, '\\nKeras ver is:', keras.__version__, '\\nPandas ver is:', pd.__version__, '\\nNumpy ver is:', np.__version__)"
      ],
      "execution_count": 2,
      "outputs": [
        {
          "output_type": "stream",
          "text": [
            "TensorFlow ver is: 2.2.0 \n",
            "Keras ver is: 2.3.0-tf \n",
            "Pandas ver is: 1.0.5 \n",
            "Numpy ver is: 1.18.5\n"
          ],
          "name": "stdout"
        }
      ]
    },
    {
      "cell_type": "code",
      "metadata": {
        "id": "Ah_45iUX9SfI",
        "colab_type": "code",
        "colab": {}
      },
      "source": [
        "from matplotlib import cm\n",
        "from tensorflow.keras.models import Sequential\n",
        "from tensorflow.keras.layers import Dense\n",
        "from tensorflow.keras.optimizers import Adam\n",
        "from tensorflow.keras.utils import to_categorical\n",
        "\n",
        "from sklearn import datasets\n",
        "from sklearn.model_selection import train_test_split"
      ],
      "execution_count": 1,
      "outputs": []
    },
    {
      "cell_type": "markdown",
      "metadata": {
        "id": "-uh2alEm9cjd",
        "colab_type": "text"
      },
      "source": [
        "# tf -> \"SNN -> load the digit dataset\""
      ]
    },
    {
      "cell_type": "code",
      "metadata": {
        "id": "ao8mzQda9drn",
        "colab_type": "code",
        "colab": {
          "base_uri": "https://localhost:8080/",
          "height": 33
        },
        "outputId": "5ebf712d-fa14-41f7-e96d-e21f3acf33e9"
      },
      "source": [
        "digits = datasets.load_digits()\n",
        "X_digits = digits.data\n",
        "y_digits = digits.target\n",
        "\n",
        "digits.keys()"
      ],
      "execution_count": 3,
      "outputs": [
        {
          "output_type": "execute_result",
          "data": {
            "text/plain": [
              "dict_keys(['data', 'target', 'target_names', 'images', 'DESCR'])"
            ]
          },
          "metadata": {
            "tags": []
          },
          "execution_count": 3
        }
      ]
    },
    {
      "cell_type": "markdown",
      "metadata": {
        "id": "XKE3Hszt9hJT",
        "colab_type": "text"
      },
      "source": [
        "# tf -> \"SNN -> spliting data into train and test sets\""
      ]
    },
    {
      "cell_type": "code",
      "metadata": {
        "id": "qctoIH8z9hOr",
        "colab_type": "code",
        "colab": {
          "base_uri": "https://localhost:8080/",
          "height": 82
        },
        "outputId": "70b19f1a-7968-48a6-daa8-91e4bad98945"
      },
      "source": [
        "print(X_digits.shape)\n",
        "print(y_digits.shape)\n",
        "print(type(X_digits))\n",
        "print(type(y_digits))\n",
        "\n",
        "# Spliting data into train and test\n",
        "X_train, X_test, y_train, y_test = train_test_split(X_digits, y_digits, test_size=0.33, random_state=42)"
      ],
      "execution_count": 4,
      "outputs": [
        {
          "output_type": "stream",
          "text": [
            "(1797, 64)\n",
            "(1797,)\n",
            "<class 'numpy.ndarray'>\n",
            "<class 'numpy.ndarray'>\n"
          ],
          "name": "stdout"
        }
      ]
    },
    {
      "cell_type": "markdown",
      "metadata": {
        "id": "gN3LE6oc9izM",
        "colab_type": "text"
      },
      "source": [
        "# tf -> \"SNN -> checking the shape of the input data\""
      ]
    },
    {
      "cell_type": "code",
      "metadata": {
        "id": "pXs4Lpeo9mEL",
        "colab_type": "code",
        "colab": {
          "base_uri": "https://localhost:8080/",
          "height": 82
        },
        "outputId": "f7d7b4cc-aa41-4043-bb2f-474d5b19da9c"
      },
      "source": [
        "print('x_train:\\t{}' .format(X_train.shape))\n",
        "print('y_train:\\t{}' .format(y_train.shape))\n",
        "print('x_test:\\t\\t{}'.format(X_test.shape))\n",
        "print('y_test:\\t\\t{}'.format(y_test.shape))"
      ],
      "execution_count": 5,
      "outputs": [
        {
          "output_type": "stream",
          "text": [
            "x_train:\t(1203, 64)\n",
            "y_train:\t(1203,)\n",
            "x_test:\t\t(594, 64)\n",
            "y_test:\t\t(594,)\n"
          ],
          "name": "stdout"
        }
      ]
    },
    {
      "cell_type": "markdown",
      "metadata": {
        "id": "8Uhb4YpC9pE_",
        "colab_type": "text"
      },
      "source": [
        "# tf -> \"SNN -> plot first 64 digits\""
      ]
    },
    {
      "cell_type": "code",
      "metadata": {
        "id": "XBtwRuRF9sYj",
        "colab_type": "code",
        "colab": {
          "base_uri": "https://localhost:8080/",
          "height": 466
        },
        "outputId": "9c67e7e8-7752-4b7f-98c5-ee43524e3498"
      },
      "source": [
        "# set up the figure\n",
        "fig = plt.figure(figsize=(6, 6))\n",
        "fig.subplots_adjust(left=0, right=1, bottom=0, top=1, hspace=0.05, wspace=0.05)\n",
        "\n",
        "# plot the digits: each image is 8x8 pixels\n",
        "for i in range(64):\n",
        "    ax = fig.add_subplot(8, 8, i + 1, xticks=[], yticks=[])\n",
        "    ax.imshow(digits.images[i], cmap=plt.cm.binary, interpolation='nearest')\n",
        "    \n",
        "    # label the image with the target value\n",
        "    ax.text(0, 7, str(digits.target[i]))"
      ],
      "execution_count": 6,
      "outputs": [
        {
          "output_type": "display_data",
          "data": {
            "image/png": "[encoded data removed]",
            "text/plain": [
              "<Figure size 432x432 with 64 Axes>"
            ]
          },
          "metadata": {
            "tags": []
          }
        }
      ]
    },
    {
      "cell_type": "markdown",
      "metadata": {
        "id": "e2Vontn59uEO",
        "colab_type": "text"
      },
      "source": [
        "# tf -> \"SNN -> one Hot Encoding\""
      ]
    },
    {
      "cell_type": "code",
      "metadata": {
        "id": "eyD6hr4e9yzp",
        "colab_type": "code",
        "colab": {}
      },
      "source": [
        "# one hot encode outputs\n",
        "y_train = to_categorical(y_train)\n",
        "y_test = to_categorical(y_test)\n",
        "num_classes = y_test.shape[1]"
      ],
      "execution_count": 7,
      "outputs": []
    },
    {
      "cell_type": "markdown",
      "metadata": {
        "id": "Q4wiXeKk95oX",
        "colab_type": "text"
      },
      "source": [
        "# tf -> \"Implement SNN -> hyperparameters\""
      ]
    },
    {
      "cell_type": "code",
      "metadata": {
        "id": "8i5bU6l695x-",
        "colab_type": "code",
        "colab": {}
      },
      "source": [
        "# Hyperparameters\n",
        "training_epochs = 30 # Total number of training epochs\n",
        "learning_rate = 0.01 # The learning rate"
      ],
      "execution_count": 8,
      "outputs": []
    },
    {
      "cell_type": "markdown",
      "metadata": {
        "id": "Dqx8eZHu9-PQ",
        "colab_type": "text"
      },
      "source": [
        "# tf -> \"Implement SNN -> creating a model\""
      ]
    },
    {
      "cell_type": "code",
      "metadata": {
        "id": "qtmJrR5D9-VH",
        "colab_type": "code",
        "colab": {
          "base_uri": "https://localhost:8080/",
          "height": 225
        },
        "outputId": "091091f9-79d7-4768-9028-7b72f0d7894f"
      },
      "source": [
        "# create a model\n",
        "def create_model():\n",
        "    model = Sequential()\n",
        "    # Input layer\n",
        "    model.add(Dense(64, input_dim=64, kernel_initializer='normal',\n",
        "        kernel_regularizer= tf.keras.regularizers.l2(0.01),activation='tanh'))\n",
        "    # Output layer\n",
        "    model.add(Dense(10, activation='softmax'))\n",
        "\n",
        "    # Compile a model\n",
        "    model.compile(loss='categorical_crossentropy', \n",
        "                  optimizer=Adam(learning_rate), metrics=['accuracy'])\n",
        "    return model\n",
        "model = create_model()\n",
        "model.summary()"
      ],
      "execution_count": 9,
      "outputs": [
        {
          "output_type": "stream",
          "text": [
            "Model: \"sequential\"\n",
            "_________________________________________________________________\n",
            "Layer (type)                 Output Shape              Param #   \n",
            "=================================================================\n",
            "dense (Dense)                (None, 64)                4160      \n",
            "_________________________________________________________________\n",
            "dense_1 (Dense)              (None, 10)                650       \n",
            "=================================================================\n",
            "Total params: 4,810\n",
            "Trainable params: 4,810\n",
            "Non-trainable params: 0\n",
            "_________________________________________________________________\n"
          ],
          "name": "stdout"
        }
      ]
    },
    {
      "cell_type": "markdown",
      "metadata": {
        "id": "rmJv-E19-CuR",
        "colab_type": "text"
      },
      "source": [
        "# tf -> \"Implement SNN -> train the model\""
      ]
    },
    {
      "cell_type": "code",
      "metadata": {
        "id": "QwANFhNr-CzZ",
        "colab_type": "code",
        "colab": {}
      },
      "source": [
        "results = model.fit(\n",
        "    X_train, y_train,\n",
        "    epochs= training_epochs,\n",
        "    batch_size = 516,\n",
        "    validation_data = (X_test, y_test),\n",
        "    verbose = 0\n",
        ")"
      ],
      "execution_count": 10,
      "outputs": []
    },
    {
      "cell_type": "markdown",
      "metadata": {
        "id": "fUhQ2we4-EGv",
        "colab_type": "text"
      },
      "source": [
        "# tf -> \"Implement SNN -> test the model\""
      ]
    },
    {
      "cell_type": "code",
      "metadata": {
        "id": "51BXjLeo-Gmx",
        "colab_type": "code",
        "colab": {}
      },
      "source": [
        "prediction_values = model.predict_classes(X_test)"
      ],
      "execution_count": 12,
      "outputs": []
    },
    {
      "cell_type": "markdown",
      "metadata": {
        "id": "CanNB2lL-NhN",
        "colab_type": "text"
      },
      "source": [
        "# tf -> \"Implement SNN -> evaluate the model to see the accuracy\""
      ]
    },
    {
      "cell_type": "code",
      "metadata": {
        "id": "AUfAjzlb-PVI",
        "colab_type": "code",
        "colab": {
          "base_uri": "https://localhost:8080/",
          "height": 86
        },
        "outputId": "c070cd0d-aec2-4e9a-818f-7e14372ebbae"
      },
      "source": [
        "print(\"Evaluating on training set...\")\n",
        "(loss, accuracy) = model.evaluate(X_train,y_train, verbose=0)\n",
        "print(\"loss={:.4f}, accuracy: {:.4f}%\".format(loss,accuracy * 100))\n",
        "\n",
        "\n",
        "print(\"Evaluating on testing set...\")\n",
        "(loss, accuracy) = model.evaluate(X_test, y_test, verbose=0)\n",
        "print(\"loss={:.4f}, accuracy: {:.4f}%\".format(loss,accuracy * 100))"
      ],
      "execution_count": 13,
      "outputs": [
        {
          "output_type": "stream",
          "text": [
            "Evaluating on training set...\n",
            "loss=0.0817, accuracy: 99.8338%\n",
            "Evaluating on testing set...\n",
            "loss=0.1496, accuracy: 97.1380%\n"
          ],
          "name": "stdout"
        }
      ]
    },
    {
      "cell_type": "markdown",
      "metadata": {
        "id": "iqiFNC-I-TME",
        "colab_type": "text"
      },
      "source": [
        "# tf -> \"Implement SNN -> summarize history for accuracy\""
      ]
    },
    {
      "cell_type": "code",
      "metadata": {
        "id": "4A9MS75h-XkL",
        "colab_type": "code",
        "colab": {
          "base_uri": "https://localhost:8080/",
          "height": 312
        },
        "outputId": "80243691-cb8c-4479-dd6f-bf6a13a3d034"
      },
      "source": [
        "# summarize history for accuracy\n",
        "plt.plot(results.history['accuracy'])\n",
        "plt.plot(results.history['val_accuracy'])\n",
        "plt.title('model accuracy')\n",
        "plt.ylabel('accuracy')\n",
        "plt.xlabel('epoch')\n",
        "plt.legend(['train', 'test'])"
      ],
      "execution_count": 14,
      "outputs": [
        {
          "output_type": "execute_result",
          "data": {
            "text/plain": [
              "<matplotlib.legend.Legend at 0x7fb9caf595c0>"
            ]
          },
          "metadata": {
            "tags": []
          },
          "execution_count": 14
        },
        {
          "output_type": "display_data",
          "data": {
            "image/png": "[encoded data removed]",
            "text/plain": [
              "<Figure size 432x288 with 1 Axes>"
            ]
          },
          "metadata": {
            "tags": [],
            "needs_background": "light"
          }
        }
      ]
    },
    {
      "cell_type": "markdown",
      "metadata": {
        "id": "WWT8-a1D-ZH0",
        "colab_type": "text"
      },
      "source": [
        "# tf -> \"Implement SNN -> summarize history for loss\""
      ]
    },
    {
      "cell_type": "code",
      "metadata": {
        "id": "YAwoxFsr-coM",
        "colab_type": "code",
        "colab": {
          "base_uri": "https://localhost:8080/",
          "height": 381
        },
        "outputId": "c2d94867-d8b1-41e4-f0d1-71e4888b9006"
      },
      "source": [
        "plt.plot(results.history['loss'])\n",
        "plt.plot(results.history['val_loss'])\n",
        "plt.title('model loss')\n",
        "plt.ylabel('loss')\n",
        "plt.xlabel('epoch')\n",
        "plt.legend(['train', 'test'])\n",
        "\n",
        "max_loss = np.max(results.history['loss'])\n",
        "min_loss = np.min(results.history['loss'])\n",
        "print(\"Maximum Loss : {:.4f}\".format(max_loss))\n",
        "print(\"\")\n",
        "print(\"Minimum Loss : {:.4f}\".format(min_loss))\n",
        "print(\"\")\n",
        "print(\"Loss difference : {:.4f}\".format((max_loss - min_loss)))"
      ],
      "execution_count": 15,
      "outputs": [
        {
          "output_type": "stream",
          "text": [
            "Maximum Loss : 2.4616\n",
            "\n",
            "Minimum Loss : 0.0821\n",
            "\n",
            "Loss difference : 2.3795\n"
          ],
          "name": "stdout"
        },
        {
          "output_type": "display_data",
          "data": {
            "image/png": "[encoded data removed]",
            "text/plain": [
              "<Figure size 432x288 with 1 Axes>"
            ]
          },
          "metadata": {
            "tags": [],
            "needs_background": "light"
          }
        }
      ]
    },
    {
      "cell_type": "markdown",
      "metadata": {
        "id": "oTw5B3N2-iOK",
        "colab_type": "text"
      },
      "source": [
        "# tf -> \"Implement SNN -> display the test set and predictions\""
      ]
    },
    {
      "cell_type": "code",
      "metadata": {
        "id": "QEqv7T80-iUI",
        "colab_type": "code",
        "colab": {
          "base_uri": "https://localhost:8080/",
          "height": 509
        },
        "outputId": "5920157a-78cf-48cc-a734-ac9a560a4fac"
      },
      "source": [
        "# set up the figure\n",
        "fig = plt.figure(figsize=(15, 7))\n",
        "fig.subplots_adjust(left=0, right=1, bottom=0, top=1, hspace=0.05, wspace=0.05)\n",
        "\n",
        "# plot the digits: each image is 8x8 pixels\n",
        "for i in range(120):\n",
        "    ax = fig.add_subplot(6, 20, i + 1, xticks=[], yticks=[])\n",
        "    ax.imshow(X_test[i,:].reshape((8,8)),\n",
        "              cmap=plt.cm.gray_r, \n",
        "              interpolation='nearest')\n",
        "    \n",
        "    # label the image with the target value\n",
        "    ax.text(0, 7, str(prediction_values[i]))"
      ],
      "execution_count": 16,
      "outputs": [
        {
          "output_type": "display_data",
          "data": {
            "image/png": "[encoded data removed]",
            "text/plain": [
              "<Figure size 1080x504 with 120 Axes>"
            ]
          },
          "metadata": {
            "tags": []
          }
        }
      ]
    }
  ]
}