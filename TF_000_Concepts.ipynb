{
  "nbformat": 4,
  "nbformat_minor": 0,
  "metadata": {
    "colab": {
      "name": "TF_000_Concepts",
      "provenance": [],
      "collapsed_sections": [],
      "mount_file_id": "1f1dz_Td1mJO-Cldt4IcxwRhjHHSp72V3",
      "authorship_tag": "ABX9TyOxPeWIeXwCAuGjrbcd/5VC",
      "include_colab_link": true
    },
    "kernelspec": {
      "name": "python3",
      "display_name": "Python 3"
    }
  },
  "cells": [
    {
      "cell_type": "markdown",
      "metadata": {
        "id": "view-in-github",
        "colab_type": "text"
      },
      "source": [
        "<a href=\"https://colab.research.google.com/github/tvelichkovt/TensorFlow/blob/master/TF_000_Concepts.ipynb\" target=\"_parent\"><img src=\"https://colab.research.google.com/assets/colab-badge.svg\" alt=\"Open In Colab\"/></a>"
      ]
    },
    {
      "cell_type": "markdown",
      "metadata": {
        "id": "Y3URuEkhd7jc",
        "colab_type": "text"
      },
      "source": [
        "# tf -> \"import\""
      ]
    },
    {
      "cell_type": "code",
      "metadata": {
        "id": "YDJ4_hz8DnMZ",
        "colab_type": "code",
        "colab": {
          "base_uri": "https://localhost:8080/",
          "height": 85
        },
        "outputId": "cd5555af-b126-461e-d3ff-99295d0ea46a"
      },
      "source": [
        "from __future__ import absolute_import, division, print_function, unicode_literals\n",
        "\n",
        "try:\n",
        "    %tensorflow_version 2.x\n",
        "except Exception:\n",
        "  pass\n",
        "\n",
        "import tensorflow as tf\n",
        "from tensorflow import keras\n",
        "import matplotlib.pyplot as plt\n",
        "import numpy as np\n",
        "import pandas as pd\n",
        "\n",
        "print('TensorFlow ver is:', tf.__version__, '\\nKeras ver is:', keras.__version__, '\\nPandas ver is:', pd.__version__, '\\nNumpy ver is:', np.__version__)"
      ],
      "execution_count": 62,
      "outputs": [
        {
          "output_type": "stream",
          "text": [
            "TensorFlow ver is: 2.2.0 \n",
            "Keras ver is: 2.3.0-tf \n",
            "Pandas ver is: 1.0.5 \n",
            "Numpy ver is: 1.18.5\n"
          ],
          "name": "stdout"
        }
      ]
    },
    {
      "cell_type": "markdown",
      "metadata": {
        "id": "E0Qchb4PgJta",
        "colab_type": "text"
      },
      "source": [
        "# tf -> \"def\""
      ]
    },
    {
      "cell_type": "code",
      "metadata": {
        "id": "At3dOrMJUSoM",
        "colab_type": "code",
        "colab": {
          "base_uri": "https://localhost:8080/",
          "height": 34
        },
        "outputId": "a439bef9-bc21-40fa-f602-22a64390e304"
      },
      "source": [
        "def f(x):\n",
        "  return 2 * x + 1\n",
        "\n",
        "f(5)"
      ],
      "execution_count": 63,
      "outputs": [
        {
          "output_type": "execute_result",
          "data": {
            "text/plain": [
              "11"
            ]
          },
          "metadata": {
            "tags": []
          },
          "execution_count": 63
        }
      ]
    },
    {
      "cell_type": "markdown",
      "metadata": {
        "id": "HuuWHjAegNmI",
        "colab_type": "text"
      },
      "source": [
        "# tf -> \"tf.nn.relu\" with linear function\n"
      ]
    },
    {
      "cell_type": "code",
      "metadata": {
        "id": "ovQlJ2tCKWxH",
        "colab_type": "code",
        "colab": {}
      },
      "source": [
        "def f(n):\n",
        "  return x + 1\n",
        "\n",
        "@tf.function\n",
        "def deep_net(n):\n",
        "  return tf.nn.relu(f(n))\n",
        "\n",
        "#deep_net(tf.constant((1, 2, 3)))"
      ],
      "execution_count": 64,
      "outputs": []
    },
    {
      "cell_type": "markdown",
      "metadata": {
        "id": "HYJvIfY3gS7H",
        "colab_type": "text"
      },
      "source": [
        "# tf -> \"timeit\""
      ]
    },
    {
      "cell_type": "code",
      "metadata": {
        "id": "3Eqt9yAUKfpI",
        "colab_type": "code",
        "colab": {
          "base_uri": "https://localhost:8080/",
          "height": 68
        },
        "outputId": "e9f6f220-a80d-41bb-facf-3787f570c053"
      },
      "source": [
        "import timeit\n",
        "conv_layer = tf.keras.layers.Conv2D(100, 3)\n",
        "\n",
        "@tf.function\n",
        "def conv_fn(image):\n",
        "  return conv_layer(image)\n",
        "\n",
        "image = tf.zeros([1, 200, 200, 100])\n",
        "# warm up\n",
        "conv_layer(image); conv_fn(image)\n",
        "print(\"Eager conv:\", timeit.timeit(lambda: conv_layer(image), number=10))\n",
        "print(\"Function conv:\", timeit.timeit(lambda: conv_fn(image), number=10))\n",
        "print(\"Note how there's not much difference in performance for convolutions\")\n"
      ],
      "execution_count": 65,
      "outputs": [
        {
          "output_type": "stream",
          "text": [
            "Eager conv: 1.3156690089999756\n",
            "Function conv: 1.2561590679997607\n",
            "Note how there's not much difference in performance for convolutions\n"
          ],
          "name": "stdout"
        }
      ]
    },
    {
      "cell_type": "markdown",
      "metadata": {
        "id": "sSTx9iUUgWv8",
        "colab_type": "text"
      },
      "source": [
        "# tf -> \"@tf.function\""
      ]
    },
    {
      "cell_type": "code",
      "metadata": {
        "id": "tn0Z61g6KkHc",
        "colab_type": "code",
        "colab": {
          "base_uri": "https://localhost:8080/",
          "height": 51
        },
        "outputId": "a823588e-9e47-48b0-8c00-2fea0fc7f156"
      },
      "source": [
        "@tf.function\n",
        "def square_if_positive(x):\n",
        "  if x > 0:\n",
        "    x = x * x\n",
        "  else:\n",
        "    x = 0\n",
        "  return x\n",
        "\n",
        "\n",
        "print('square_if_positive(2) = {}'.format(square_if_positive(tf.constant(2))))\n",
        "print('square_if_positive(-2) = {}'.format(square_if_positive(tf.constant(-2))))"
      ],
      "execution_count": 66,
      "outputs": [
        {
          "output_type": "stream",
          "text": [
            "square_if_positive(2) = 4\n",
            "square_if_positive(-2) = 0\n"
          ],
          "name": "stdout"
        }
      ]
    },
    {
      "cell_type": "code",
      "metadata": {
        "id": "uzrODCR3KpoF",
        "colab_type": "code",
        "colab": {
          "base_uri": "https://localhost:8080/",
          "height": 34
        },
        "outputId": "b282f3b6-b9e9-4ff0-95aa-33f8debaf998"
      },
      "source": [
        "@tf.function\n",
        "def sum_even(items):\n",
        "  s = 0\n",
        "  for c in items:\n",
        "    if c % 2 > 0:\n",
        "      continue\n",
        "    s += c\n",
        "  return s\n",
        "\n",
        "\n",
        "sum_even(tf.constant([10, 12, 15, 20]))"
      ],
      "execution_count": 67,
      "outputs": [
        {
          "output_type": "execute_result",
          "data": {
            "text/plain": [
              "<tf.Tensor: shape=(), dtype=int32, numpy=42>"
            ]
          },
          "metadata": {
            "tags": []
          },
          "execution_count": 67
        }
      ]
    },
    {
      "cell_type": "code",
      "metadata": {
        "id": "gGb713VGKswX",
        "colab_type": "code",
        "colab": {
          "base_uri": "https://localhost:8080/",
          "height": 272
        },
        "outputId": "3f67704d-d448-48fe-c081-93fc11afcb7a"
      },
      "source": [
        "@tf.function\n",
        "def fizzbuzz(n):\n",
        "  for i in tf.range(n):\n",
        "    if i % 3 == 0:\n",
        "      tf.print('Fizz')\n",
        "    elif i % 5 == 0:\n",
        "      tf.print('Buzz')\n",
        "    else:\n",
        "      tf.print(i)\n",
        "\n",
        "fizzbuzz(tf.constant(15))"
      ],
      "execution_count": 68,
      "outputs": [
        {
          "output_type": "stream",
          "text": [
            "Fizz\n",
            "1\n",
            "2\n",
            "Fizz\n",
            "4\n",
            "Buzz\n",
            "Fizz\n",
            "7\n",
            "8\n",
            "Fizz\n",
            "Buzz\n",
            "11\n",
            "Fizz\n",
            "13\n",
            "14\n"
          ],
          "name": "stdout"
        }
      ]
    },
    {
      "cell_type": "code",
      "metadata": {
        "id": "3IRIW2AUK1YP",
        "colab_type": "code",
        "colab": {
          "base_uri": "https://localhost:8080/",
          "height": 34
        },
        "outputId": "5201848b-06a9-45c4-d00c-d704c6ff0fc1"
      },
      "source": [
        "class CustomModel(tf.keras.models.Model):\n",
        "\n",
        "  @tf.function\n",
        "  def call(self, input_data):\n",
        "    if tf.reduce_mean(input_data) > 0:\n",
        "      return input_data\n",
        "    else:\n",
        "      return input_data // 2\n",
        "\n",
        "\n",
        "model = CustomModel()\n",
        "\n",
        "model(tf.constant([-2, -4]))"
      ],
      "execution_count": 69,
      "outputs": [
        {
          "output_type": "execute_result",
          "data": {
            "text/plain": [
              "<tf.Tensor: shape=(2,), dtype=int32, numpy=array([-1, -2], dtype=int32)>"
            ]
          },
          "metadata": {
            "tags": []
          },
          "execution_count": 69
        }
      ]
    },
    {
      "cell_type": "code",
      "metadata": {
        "id": "K_8hZZVrK57u",
        "colab_type": "code",
        "colab": {
          "base_uri": "https://localhost:8080/",
          "height": 34
        },
        "outputId": "4c6d1842-8e3c-4fe5-a970-ffb7fd304416"
      },
      "source": [
        "v = tf.Variable(5)\n",
        "\n",
        "@tf.function\n",
        "def find_next_odd():\n",
        "  v.assign(v + 1)\n",
        "  if v % 2 == 0:\n",
        "    v.assign(v + 1)\n",
        "\n",
        "\n",
        "find_next_odd()\n",
        "v"
      ],
      "execution_count": 70,
      "outputs": [
        {
          "output_type": "execute_result",
          "data": {
            "text/plain": [
              "<tf.Variable 'Variable:0' shape=() dtype=int32, numpy=7>"
            ]
          },
          "metadata": {
            "tags": []
          },
          "execution_count": 70
        }
      ]
    },
    {
      "cell_type": "markdown",
      "metadata": {
        "id": "AnoUpaOGOxon",
        "colab_type": "text"
      },
      "source": [
        "# tf -> \"tf.Variable\""
      ]
    },
    {
      "cell_type": "code",
      "metadata": {
        "id": "Nl-05lQuOyd-",
        "colab_type": "code",
        "colab": {
          "base_uri": "https://localhost:8080/",
          "height": 34
        },
        "outputId": "687622b6-e8b7-4fbf-a83d-3398b4dffb6e"
      },
      "source": [
        "# tf.Variable\n",
        "\n",
        "v = tf.Variable(1213)\n",
        "print(v)"
      ],
      "execution_count": 71,
      "outputs": [
        {
          "output_type": "stream",
          "text": [
            "<tf.Variable 'Variable:0' shape=() dtype=int32, numpy=1213>\n"
          ],
          "name": "stdout"
        }
      ]
    },
    {
      "cell_type": "markdown",
      "metadata": {
        "id": "V58jg1nrPKu6",
        "colab_type": "text"
      },
      "source": [
        "# tf -> \"tf.range\"\n"
      ]
    },
    {
      "cell_type": "code",
      "metadata": {
        "id": "Qup8-MF8PUbJ",
        "colab_type": "code",
        "colab": {
          "base_uri": "https://localhost:8080/",
          "height": 34
        },
        "outputId": "61debf11-f1cd-4782-dc8c-09b8feb68c3c"
      },
      "source": [
        "tf.range(1) #[0]\n",
        "tf.range(2) #[0, 1]\n",
        "tf.range(3) #[0, 1, 2]\n",
        "tf.range(4) #[0, 1, 2, 3]\n",
        "\n",
        "start = 3\n",
        "limit = 18\n",
        "delta = 3\n",
        "tf.range(start, limit, delta)  # [3, 6, 9, 12, 15]\n",
        "\n",
        "start = 3\n",
        "limit = 1\n",
        "delta = -0.5\n",
        "tf.range(start, limit, delta)  # [3, 2.5, 2, 1.5]\n",
        "\n",
        "limit = 5\n",
        "tf.range(limit)  # [0, 1, 2, 3, 4]\n",
        "\n",
        "start = 5\n",
        "limit = 16\n",
        "delta = 3\n",
        "tf.range(start, limit, delta)"
      ],
      "execution_count": 72,
      "outputs": [
        {
          "output_type": "execute_result",
          "data": {
            "text/plain": [
              "<tf.Tensor: shape=(4,), dtype=int32, numpy=array([ 5,  8, 11, 14], dtype=int32)>"
            ]
          },
          "metadata": {
            "tags": []
          },
          "execution_count": 72
        }
      ]
    },
    {
      "cell_type": "markdown",
      "metadata": {
        "id": "HDckBuHGPXNI",
        "colab_type": "text"
      },
      "source": [
        "# tf -> \"add\"\n"
      ]
    },
    {
      "cell_type": "code",
      "metadata": {
        "id": "42furRmRPiFZ",
        "colab_type": "code",
        "colab": {
          "base_uri": "https://localhost:8080/",
          "height": 34
        },
        "outputId": "38fb7de6-8a43-478c-cffd-8a0251142337"
      },
      "source": [
        "@tf.function \n",
        "def f(x, y): \n",
        "  return x + y \n",
        "\n",
        "f(1, 2)"
      ],
      "execution_count": 73,
      "outputs": [
        {
          "output_type": "execute_result",
          "data": {
            "text/plain": [
              "<tf.Tensor: shape=(), dtype=int32, numpy=3>"
            ]
          },
          "metadata": {
            "tags": []
          },
          "execution_count": 73
        }
      ]
    },
    {
      "cell_type": "markdown",
      "metadata": {
        "id": "DK-592HXPke3",
        "colab_type": "text"
      },
      "source": [
        "# tf -> \"multiply\""
      ]
    },
    {
      "cell_type": "code",
      "metadata": {
        "id": "NMf-cny4PnGZ",
        "colab_type": "code",
        "colab": {
          "base_uri": "https://localhost:8080/",
          "height": 34
        },
        "outputId": "b5cfbc79-db77-4670-e456-c95ce1d1c74f"
      },
      "source": [
        "@tf.function \n",
        "def f(x, y): \n",
        "  return x ** 2 + y \n",
        "x = tf.constant([2]) \n",
        "y = tf.constant([3]) \n",
        "f(x, y)"
      ],
      "execution_count": 74,
      "outputs": [
        {
          "output_type": "execute_result",
          "data": {
            "text/plain": [
              "<tf.Tensor: shape=(1,), dtype=int32, numpy=array([7], dtype=int32)>"
            ]
          },
          "metadata": {
            "tags": []
          },
          "execution_count": 74
        }
      ]
    },
    {
      "cell_type": "markdown",
      "metadata": {
        "id": "xQcOEcpnPqI3",
        "colab_type": "text"
      },
      "source": [
        "# tf -> \"multiply arrays\""
      ]
    },
    {
      "cell_type": "code",
      "metadata": {
        "id": "WK8YzHf6PsvC",
        "colab_type": "code",
        "colab": {
          "base_uri": "https://localhost:8080/",
          "height": 34
        },
        "outputId": "0ce3c6b3-f5e1-48da-e6e9-1ceb1cf9dc5c"
      },
      "source": [
        "@tf.function \n",
        "def f(x, y): \n",
        "  return x ** 2 + y \n",
        "x = tf.constant([2, 3]) \n",
        "y = tf.constant([3, -2]) \n",
        "f(x, y) "
      ],
      "execution_count": 75,
      "outputs": [
        {
          "output_type": "execute_result",
          "data": {
            "text/plain": [
              "<tf.Tensor: shape=(2,), dtype=int32, numpy=array([7, 7], dtype=int32)>"
            ]
          },
          "metadata": {
            "tags": []
          },
          "execution_count": 75
        }
      ]
    },
    {
      "cell_type": "markdown",
      "metadata": {
        "id": "j4anMtUwPuTb",
        "colab_type": "text"
      },
      "source": [
        "# tf -> \"reduce\""
      ]
    },
    {
      "cell_type": "code",
      "metadata": {
        "id": "Yr9cIM_pPxKq",
        "colab_type": "code",
        "colab": {
          "base_uri": "https://localhost:8080/",
          "height": 34
        },
        "outputId": "33a20c18-5d84-4ca7-ffb3-d141028c992b"
      },
      "source": [
        "@tf.function \n",
        "def f(x): \n",
        "  if tf.reduce_sum(x) > 0: \n",
        "    return x * x \n",
        "  else: \n",
        "    return -x // 2 \n",
        "f(tf.constant(-13))"
      ],
      "execution_count": 76,
      "outputs": [
        {
          "output_type": "execute_result",
          "data": {
            "text/plain": [
              "<tf.Tensor: shape=(), dtype=int32, numpy=6>"
            ]
          },
          "metadata": {
            "tags": []
          },
          "execution_count": 76
        }
      ]
    },
    {
      "cell_type": "markdown",
      "metadata": {
        "id": "pQZLBo38PygX",
        "colab_type": "text"
      },
      "source": [
        "# tf -> \"tf.constant\" + \"tf.Variable\""
      ]
    },
    {
      "cell_type": "code",
      "metadata": {
        "id": "AwF99DghP7PW",
        "colab_type": "code",
        "colab": {
          "base_uri": "https://localhost:8080/",
          "height": 34
        },
        "outputId": "9d3abcff-4ede-46f5-cf14-b9a36663c4ae"
      },
      "source": [
        "@tf.function \n",
        "def f(): \n",
        "  return x ** 2 + y \n",
        "x = tf.constant([-2, -3]) \n",
        "y = tf.Variable([3, -2]) \n",
        "f() "
      ],
      "execution_count": 77,
      "outputs": [
        {
          "output_type": "execute_result",
          "data": {
            "text/plain": [
              "<tf.Tensor: shape=(2,), dtype=int32, numpy=array([7, 7], dtype=int32)>"
            ]
          },
          "metadata": {
            "tags": []
          },
          "execution_count": 77
        }
      ]
    },
    {
      "cell_type": "markdown",
      "metadata": {
        "id": "x1WP7YzlP89v",
        "colab_type": "text"
      },
      "source": [
        "# tf -> \"tf.print\" + \"tf.Variable\" + \"others\""
      ]
    },
    {
      "cell_type": "code",
      "metadata": {
        "id": "X03tk4aHQFpY",
        "colab_type": "code",
        "colab": {
          "base_uri": "https://localhost:8080/",
          "height": 34
        },
        "outputId": "a561b3e6-5fa7-4c40-8234-05f132572ca6"
      },
      "source": [
        "v = tf.Variable(1) \n",
        "@tf.function \n",
        "def f(x): \n",
        "  for i in tf.range(x): \n",
        "    v.assign_add(i) \n",
        "f(4)\n",
        "v"
      ],
      "execution_count": 78,
      "outputs": [
        {
          "output_type": "execute_result",
          "data": {
            "text/plain": [
              "<tf.Variable 'Variable:0' shape=() dtype=int32, numpy=7>"
            ]
          },
          "metadata": {
            "tags": []
          },
          "execution_count": 78
        }
      ]
    },
    {
      "cell_type": "markdown",
      "metadata": {
        "id": "rFgIHtpnQHIU",
        "colab_type": "text"
      },
      "source": [
        "# tf -> \"TensorArray\"\n"
      ]
    },
    {
      "cell_type": "code",
      "metadata": {
        "id": "A-iHrjBiQJ5Y",
        "colab_type": "code",
        "colab": {
          "base_uri": "https://localhost:8080/",
          "height": 34
        },
        "outputId": "bac9350d-5fd8-4c82-e79f-c9e573eaf03a"
      },
      "source": [
        "@tf.function \n",
        "def f(x): \n",
        "  ta = tf.TensorArray(dtype=tf.int32, size=0, dynamic_size=True) \n",
        "  for i in range(len(x)): \n",
        "    ta = ta.write(i, x[i] + 1) \n",
        "  return ta.stack() \n",
        "f(tf.constant([1, 2, 3])) "
      ],
      "execution_count": 79,
      "outputs": [
        {
          "output_type": "execute_result",
          "data": {
            "text/plain": [
              "<tf.Tensor: shape=(3,), dtype=int32, numpy=array([2, 3, 4], dtype=int32)>"
            ]
          },
          "metadata": {
            "tags": []
          },
          "execution_count": 79
        }
      ]
    },
    {
      "cell_type": "markdown",
      "metadata": {
        "id": "k4bVBeTzQMxQ",
        "colab_type": "text"
      },
      "source": [
        "# tf -> \"Passing python scalars or lists as arguments to tf.function\""
      ]
    },
    {
      "cell_type": "code",
      "metadata": {
        "id": "0FL7yh8AQQru",
        "colab_type": "code",
        "colab": {
          "base_uri": "https://localhost:8080/",
          "height": 34
        },
        "outputId": "cbc4f48d-0a1a-4aa2-e67d-57d586e8bebd"
      },
      "source": [
        "@tf.function \n",
        "def f(x): \n",
        "  return tf.abs(x) \n",
        "f1 = f.get_concrete_function(1) \n",
        "f2 = f.get_concrete_function(2)  # Slow - builds new graph \n",
        "f1 is f2 # False\n",
        "\n",
        "f1 = f.get_concrete_function(tf.constant(1)) \n",
        "f2 = f.get_concrete_function(tf.constant(2))  # Fast - reuses f1 \n",
        "f1 is f2 # True"
      ],
      "execution_count": 80,
      "outputs": [
        {
          "output_type": "execute_result",
          "data": {
            "text/plain": [
              "True"
            ]
          },
          "metadata": {
            "tags": []
          },
          "execution_count": 80
        }
      ]
    },
    {
      "cell_type": "markdown",
      "metadata": {
        "id": "FfwMAgoBQR-D",
        "colab_type": "text"
      },
      "source": [
        "# tf -> \"two separate graphs, each specialized to a different shape\""
      ]
    },
    {
      "cell_type": "code",
      "metadata": {
        "id": "1AMnuMtrQUn0",
        "colab_type": "code",
        "colab": {
          "base_uri": "https://localhost:8080/",
          "height": 34
        },
        "outputId": "ebc497bd-1af0-493a-a31a-1ae27b3d97fc"
      },
      "source": [
        "@tf.function \n",
        "def f(x): \n",
        "  return x + 1 \n",
        "vector = tf.constant([1.0, 1.0]) \n",
        "matrix = tf.constant([[3.0]]) \n",
        "f.get_concrete_function(vector) is f.get_concrete_function(matrix) "
      ],
      "execution_count": 81,
      "outputs": [
        {
          "output_type": "execute_result",
          "data": {
            "text/plain": [
              "False"
            ]
          },
          "metadata": {
            "tags": []
          },
          "execution_count": 81
        }
      ]
    },
    {
      "cell_type": "markdown",
      "metadata": {
        "id": "8Vn6GIw2QWXt",
        "colab_type": "text"
      },
      "source": [
        "# tf -> \"avoid creating multiple graphs when Tensors have dynamic shapes\""
      ]
    },
    {
      "cell_type": "code",
      "metadata": {
        "id": "hOG7bTb5QZN1",
        "colab_type": "code",
        "colab": {
          "base_uri": "https://localhost:8080/",
          "height": 34
        },
        "outputId": "af9cc689-831a-42ab-a944-07c411eb1ac6"
      },
      "source": [
        "@tf.function( \n",
        "    input_signature=[tf.TensorSpec(shape=None, dtype=tf.float32)]) \n",
        "def f(x): \n",
        "  return x + 1 \n",
        "vector = tf.constant([1.0, 1.0]) \n",
        "matrix = tf.constant([[3.0]]) \n",
        "f.get_concrete_function(vector) is f.get_concrete_function(matrix) "
      ],
      "execution_count": 82,
      "outputs": [
        {
          "output_type": "execute_result",
          "data": {
            "text/plain": [
              "True"
            ]
          },
          "metadata": {
            "tags": []
          },
          "execution_count": 82
        }
      ]
    },
    {
      "cell_type": "markdown",
      "metadata": {
        "id": "clN4A2ZfQdqN",
        "colab_type": "text"
      },
      "source": [
        "# tf -> \"Variables may only be created once! tf.function only allows creating new tf.Variable objects when it is called for the first time\""
      ]
    },
    {
      "cell_type": "code",
      "metadata": {
        "id": "QKWvqnq8Qf5o",
        "colab_type": "code",
        "colab": {}
      },
      "source": [
        "class MyModule(tf.Module): \n",
        "  def __init__(self): \n",
        "    self.v = None \n",
        " \n",
        "  @tf.function \n",
        "  def call(self, x): \n",
        "    if self.v is None: \n",
        "      self.v = tf.Variable(tf.ones_like(x)) \n",
        "    return self.v * x "
      ],
      "execution_count": 83,
      "outputs": []
    },
    {
      "cell_type": "markdown",
      "metadata": {
        "id": "cQGa-8xlUWc3",
        "colab_type": "text"
      },
      "source": [
        "# tf -> \"print\""
      ]
    },
    {
      "cell_type": "code",
      "metadata": {
        "id": "Eu7Cle_-UXCS",
        "colab_type": "code",
        "colab": {
          "base_uri": "https://localhost:8080/",
          "height": 34
        },
        "outputId": "8068d8bc-7c7a-4bba-cc63-4d9e2d2d86b1"
      },
      "source": [
        "@tf.function\n",
        "def f():\n",
        "    tensor = tf.range(10)\n",
        "    tf.print(tensor, output_stream=sys.stderr)\n",
        "    return tensor\n",
        "\n",
        "range_tensor = f()"
      ],
      "execution_count": 84,
      "outputs": [
        {
          "output_type": "stream",
          "text": [
            "[0 1 2 ... 7 8 9]\n"
          ],
          "name": "stdout"
        }
      ]
    },
    {
      "cell_type": "code",
      "metadata": {
        "id": "pTM37iScUZ9s",
        "colab_type": "code",
        "colab": {
          "base_uri": "https://localhost:8080/",
          "height": 34
        },
        "outputId": "b67afb7a-e017-44c0-b391-5e1fc08b8735"
      },
      "source": [
        "tensor_a = tf.range(2)\n",
        "tensor_b = tensor_a * 2\n",
        "tf.print(tensor_a, tensor_b)"
      ],
      "execution_count": 85,
      "outputs": [
        {
          "output_type": "stream",
          "text": [
            "[0 1] [0 2]\n"
          ],
          "name": "stdout"
        }
      ]
    }
  ]
}